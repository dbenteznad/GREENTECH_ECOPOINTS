{
 "cells": [
  {
   "cell_type": "code",
   "execution_count": 11,
   "id": "a4b360af-5c68-4ad5-929b-8d06a62cb05e",
   "metadata": {},
   "outputs": [],
   "source": [
    "# SE REALIZAN 3 GRÁFICAS DINÁMICAS BARRA/LINEAL CON LAS PREDICCIONES (CATALUÑA - ESPAÑA - COMPARATIVA).\n",
    "# SE UTILIZA plotly.graph_objects PARA REALIZAR LAS GRÁFICAS DINÁMICAS. \n",
    "# FINALMENTE SE ADAPTAN PARA REACT CON SU LENGUAJE.\n",
    "# CAMBIO A CHART.JS LAS GRÁFICAS DE CAT-ESP EN LA PÁGINA WEB PARA PROBAR DOS BIBLIOTECAS DINÁMICAS. "
   ]
  },
  {
   "cell_type": "code",
   "execution_count": 12,
   "id": "7cbf10e6-3e48-4715-a07c-f72b5f6fe5f7",
   "metadata": {},
   "outputs": [],
   "source": [
    "import pandas as pd"
   ]
  },
  {
   "cell_type": "code",
   "execution_count": 13,
   "id": "ae0dba6c-609d-4da2-8f2b-c859146e9a77",
   "metadata": {},
   "outputs": [
    {
     "data": {
      "text/html": [
       "<div>\n",
       "<style scoped>\n",
       "    .dataframe tbody tr th:only-of-type {\n",
       "        vertical-align: middle;\n",
       "    }\n",
       "\n",
       "    .dataframe tbody tr th {\n",
       "        vertical-align: top;\n",
       "    }\n",
       "\n",
       "    .dataframe thead th {\n",
       "        text-align: right;\n",
       "    }\n",
       "</style>\n",
       "<table border=\"1\" class=\"dataframe\">\n",
       "  <thead>\n",
       "    <tr style=\"text-align: right;\">\n",
       "      <th></th>\n",
       "      <th>Any</th>\n",
       "      <th>Població Catalunya</th>\n",
       "      <th>Generació Residus CAT Totals</th>\n",
       "      <th>Total Recollida Selectiva</th>\n",
       "      <th>Total Fracció Resta</th>\n",
       "      <th>RS / RC % Total</th>\n",
       "      <th>FR / RC % Total</th>\n",
       "    </tr>\n",
       "  </thead>\n",
       "  <tbody>\n",
       "    <tr>\n",
       "      <th>35</th>\n",
       "      <td>2035</td>\n",
       "      <td>8978943</td>\n",
       "      <td>3957856</td>\n",
       "      <td>2614231</td>\n",
       "      <td>1343625</td>\n",
       "      <td>66.05</td>\n",
       "      <td>33.95</td>\n",
       "    </tr>\n",
       "  </tbody>\n",
       "</table>\n",
       "</div>"
      ],
      "text/plain": [
       "     Any  Població Catalunya  Generació Residus CAT Totals  \\\n",
       "35  2035             8978943                       3957856   \n",
       "\n",
       "    Total Recollida Selectiva  Total Fracció Resta  RS / RC % Total  \\\n",
       "35                    2614231              1343625            66.05   \n",
       "\n",
       "    FR / RC % Total  \n",
       "35            33.95  "
      ]
     },
     "execution_count": 13,
     "metadata": {},
     "output_type": "execute_result"
    }
   ],
   "source": [
    "cat = pd.read_csv('Data_Prediccion_CAT.csv')\n",
    "cat.tail(1)\n",
    "# UE - 55% de los residuos municipales en 2025 60% en 2030 y 65% en 2035."
   ]
  },
  {
   "cell_type": "code",
   "execution_count": 14,
   "id": "529fd35d-7a2d-42b6-b0ed-f5e5da0a30a1",
   "metadata": {},
   "outputs": [
    {
     "data": {
      "text/html": [
       "<div>\n",
       "<style scoped>\n",
       "    .dataframe tbody tr th:only-of-type {\n",
       "        vertical-align: middle;\n",
       "    }\n",
       "\n",
       "    .dataframe tbody tr th {\n",
       "        vertical-align: top;\n",
       "    }\n",
       "\n",
       "    .dataframe thead th {\n",
       "        text-align: right;\n",
       "    }\n",
       "</style>\n",
       "<table border=\"1\" class=\"dataframe\">\n",
       "  <thead>\n",
       "    <tr style=\"text-align: right;\">\n",
       "      <th></th>\n",
       "      <th>Año</th>\n",
       "      <th>Población España</th>\n",
       "      <th>Total Generado España</th>\n",
       "      <th>Total Recogida Selectiva</th>\n",
       "      <th>Total Resto</th>\n",
       "      <th>RS / RE % Total</th>\n",
       "      <th>FR / RE % Total</th>\n",
       "    </tr>\n",
       "  </thead>\n",
       "  <tbody>\n",
       "    <tr>\n",
       "      <th>22</th>\n",
       "      <td>2035</td>\n",
       "      <td>47871666</td>\n",
       "      <td>23850649</td>\n",
       "      <td>13780816</td>\n",
       "      <td>10069829</td>\n",
       "      <td>57.78</td>\n",
       "      <td>42.22</td>\n",
       "    </tr>\n",
       "  </tbody>\n",
       "</table>\n",
       "</div>"
      ],
      "text/plain": [
       "     Año  Población España  Total Generado España  Total Recogida Selectiva  \\\n",
       "22  2035          47871666               23850649                  13780816   \n",
       "\n",
       "    Total Resto  RS / RE % Total  FR / RE % Total  \n",
       "22     10069829            57.78            42.22  "
      ]
     },
     "execution_count": 14,
     "metadata": {},
     "output_type": "execute_result"
    }
   ],
   "source": [
    "esp = pd.read_csv('Data_Prediccion_ESP.csv')\n",
    "esp.tail(1)"
   ]
  },
  {
   "cell_type": "code",
   "execution_count": 18,
   "id": "ba519b7f-11d5-44d5-8d9a-81db17e7d189",
   "metadata": {},
   "outputs": [
    {
     "data": {
      "application/vnd.plotly.v1+json": {
       "config": {
        "plotlyServerURL": "https://plot.ly"
       },
       "data": [
        {
         "legendgroup": "UE",
         "line": {
          "color": "lightgreen",
          "dash": "dash",
          "width": 3
         },
         "mode": "lines+markers+text",
         "name": "UE",
         "showlegend": true,
         "text": [
          "50%",
          "55%",
          "60%",
          "65%"
         ],
         "textfont": {
          "color": "green",
          "size": 14
         },
         "textposition": "top center",
         "type": "scatter",
         "visible": true,
         "x": [
          2020,
          2025,
          2030,
          2035
         ],
         "y": [
          50,
          55,
          60,
          65
         ]
        },
        {
         "legendgroup": "España (2012-2020)",
         "line": {
          "color": "rgb(255, 181, 82)",
          "width": 3
         },
         "marker": {
          "color": "rgb(255, 181, 82)",
          "size": 8,
          "symbol": "circle"
         },
         "mode": "lines+markers+text",
         "name": "España (2012-2020)",
         "showlegend": true,
         "text": [
          "29.8%",
          "",
          "",
          "",
          "",
          "",
          "",
          "40.6%"
         ],
         "textfont": {
          "color": "rgb(255, 102, 0)",
          "size": 14
         },
         "textposition": "bottom center",
         "type": "scatter",
         "visible": true,
         "x": [
          2012,
          2014,
          2015,
          2016,
          2017,
          2018,
          2019,
          2020
         ],
         "y": [
          29.79,
          30.81,
          29.98,
          33.86,
          36.11,
          35.02,
          37.96,
          40.56
         ]
        },
        {
         "legendgroup": "Predicción España (2021-2035)",
         "line": {
          "color": "rgb(255, 181, 82)",
          "dash": "dot",
          "width": 2
         },
         "marker": {
          "color": "rgb(255, 181, 82)",
          "size": [
           0,
           0,
           0,
           0,
           8,
           0,
           0,
           0,
           0,
           8,
           0,
           0,
           0,
           0,
           8
          ],
          "symbol": "circle"
         },
         "mode": "lines+markers+text",
         "name": "Predicción España (2021-2035)",
         "showlegend": true,
         "text": [
          "",
          "",
          "",
          "",
          "45.7%",
          "",
          "",
          "",
          "",
          "51.9%",
          "",
          "",
          "",
          "",
          "57.8%"
         ],
         "textfont": {
          "color": "rgb(255, 102, 0)",
          "size": 14
         },
         "textposition": "bottom center",
         "type": "scatter",
         "visible": true,
         "x": [
          2021,
          2022,
          2023,
          2024,
          2025,
          2026,
          2027,
          2028,
          2029,
          2030,
          2031,
          2032,
          2033,
          2034,
          2035
         ],
         "y": [
          40.56,
          41.87,
          43.17,
          44.45,
          45.72,
          46.98,
          48.23,
          49.46,
          50.69,
          51.9,
          53.1,
          54.28,
          55.46,
          56.63,
          57.78
         ]
        },
        {
         "legendgroup": "Cataluña (2000-2021)",
         "line": {
          "color": "lightblue",
          "width": 3
         },
         "marker": {
          "color": "lightblue",
          "size": 8,
          "symbol": "circle"
         },
         "mode": "lines+markers+text",
         "name": "Cataluña (2000-2021)",
         "showlegend": true,
         "text": [
          "14.0%",
          "",
          "",
          "",
          "",
          "",
          "",
          "",
          "",
          "",
          "",
          "",
          "",
          "",
          "",
          "",
          "",
          "",
          "",
          "",
          "45.9%",
          ""
         ],
         "textfont": {
          "color": "darkblue",
          "size": 14
         },
         "textposition": "bottom center",
         "type": "scatter",
         "visible": true,
         "x": [
          2000,
          2001,
          2002,
          2003,
          2004,
          2005,
          2006,
          2007,
          2008,
          2009,
          2010,
          2011,
          2012,
          2013,
          2014,
          2015,
          2016,
          2017,
          2018,
          2019,
          2020,
          2021
         ],
         "y": [
          13.96,
          16.85,
          19.8,
          22.64,
          25.42,
          29.11,
          31.95,
          33.6,
          34.41,
          37.53,
          40.54,
          40.6,
          39.1,
          37.95,
          38.19,
          38.98,
          38.61,
          39.88,
          41.77,
          44.9,
          45.91,
          46.63
         ]
        },
        {
         "legendgroup": "Predicción Cataluña (2022-2035)",
         "line": {
          "color": "lightblue",
          "dash": "dot",
          "width": 2
         },
         "marker": {
          "color": "lightblue",
          "size": [
           0,
           0,
           0,
           8,
           0,
           0,
           0,
           0,
           8,
           0,
           0,
           0,
           0,
           8
          ],
          "symbol": "circle"
         },
         "mode": "lines+markers+text",
         "name": "Predicción Cataluña (2022-2035)",
         "showlegend": true,
         "text": [
          "",
          "",
          "",
          "53.3%",
          "",
          "",
          "",
          "",
          "59.7%",
          "",
          "",
          "",
          "",
          "66.0%"
         ],
         "textfont": {
          "color": "darkblue",
          "size": 14
         },
         "textposition": "bottom center",
         "type": "scatter",
         "visible": true,
         "x": [
          2022,
          2023,
          2024,
          2025,
          2026,
          2027,
          2028,
          2029,
          2030,
          2031,
          2032,
          2033,
          2034,
          2035
         ],
         "y": [
          49.43,
          50.71,
          51.99,
          53.27,
          54.55,
          55.83,
          57.11,
          58.39,
          59.67,
          60.95,
          62.22,
          63.5,
          64.78,
          66.05
         ]
        }
       ],
       "layout": {
        "height": 500,
        "legend": {
         "font": {
          "color": "black",
          "family": "Arial",
          "size": 12
         },
         "orientation": "h",
         "x": 0.5,
         "xanchor": "center",
         "y": -0.35,
         "yanchor": "bottom"
        },
        "plot_bgcolor": "rgb(240, 240, 240)",
        "showlegend": true,
        "template": {
         "data": {
          "bar": [
           {
            "error_x": {
             "color": "#2a3f5f"
            },
            "error_y": {
             "color": "#2a3f5f"
            },
            "marker": {
             "line": {
              "color": "#E5ECF6",
              "width": 0.5
             },
             "pattern": {
              "fillmode": "overlay",
              "size": 10,
              "solidity": 0.2
             }
            },
            "type": "bar"
           }
          ],
          "barpolar": [
           {
            "marker": {
             "line": {
              "color": "#E5ECF6",
              "width": 0.5
             },
             "pattern": {
              "fillmode": "overlay",
              "size": 10,
              "solidity": 0.2
             }
            },
            "type": "barpolar"
           }
          ],
          "carpet": [
           {
            "aaxis": {
             "endlinecolor": "#2a3f5f",
             "gridcolor": "white",
             "linecolor": "white",
             "minorgridcolor": "white",
             "startlinecolor": "#2a3f5f"
            },
            "baxis": {
             "endlinecolor": "#2a3f5f",
             "gridcolor": "white",
             "linecolor": "white",
             "minorgridcolor": "white",
             "startlinecolor": "#2a3f5f"
            },
            "type": "carpet"
           }
          ],
          "choropleth": [
           {
            "colorbar": {
             "outlinewidth": 0,
             "ticks": ""
            },
            "type": "choropleth"
           }
          ],
          "contour": [
           {
            "colorbar": {
             "outlinewidth": 0,
             "ticks": ""
            },
            "colorscale": [
             [
              0,
              "#0d0887"
             ],
             [
              0.1111111111111111,
              "#46039f"
             ],
             [
              0.2222222222222222,
              "#7201a8"
             ],
             [
              0.3333333333333333,
              "#9c179e"
             ],
             [
              0.4444444444444444,
              "#bd3786"
             ],
             [
              0.5555555555555556,
              "#d8576b"
             ],
             [
              0.6666666666666666,
              "#ed7953"
             ],
             [
              0.7777777777777778,
              "#fb9f3a"
             ],
             [
              0.8888888888888888,
              "#fdca26"
             ],
             [
              1,
              "#f0f921"
             ]
            ],
            "type": "contour"
           }
          ],
          "contourcarpet": [
           {
            "colorbar": {
             "outlinewidth": 0,
             "ticks": ""
            },
            "type": "contourcarpet"
           }
          ],
          "heatmap": [
           {
            "colorbar": {
             "outlinewidth": 0,
             "ticks": ""
            },
            "colorscale": [
             [
              0,
              "#0d0887"
             ],
             [
              0.1111111111111111,
              "#46039f"
             ],
             [
              0.2222222222222222,
              "#7201a8"
             ],
             [
              0.3333333333333333,
              "#9c179e"
             ],
             [
              0.4444444444444444,
              "#bd3786"
             ],
             [
              0.5555555555555556,
              "#d8576b"
             ],
             [
              0.6666666666666666,
              "#ed7953"
             ],
             [
              0.7777777777777778,
              "#fb9f3a"
             ],
             [
              0.8888888888888888,
              "#fdca26"
             ],
             [
              1,
              "#f0f921"
             ]
            ],
            "type": "heatmap"
           }
          ],
          "heatmapgl": [
           {
            "colorbar": {
             "outlinewidth": 0,
             "ticks": ""
            },
            "colorscale": [
             [
              0,
              "#0d0887"
             ],
             [
              0.1111111111111111,
              "#46039f"
             ],
             [
              0.2222222222222222,
              "#7201a8"
             ],
             [
              0.3333333333333333,
              "#9c179e"
             ],
             [
              0.4444444444444444,
              "#bd3786"
             ],
             [
              0.5555555555555556,
              "#d8576b"
             ],
             [
              0.6666666666666666,
              "#ed7953"
             ],
             [
              0.7777777777777778,
              "#fb9f3a"
             ],
             [
              0.8888888888888888,
              "#fdca26"
             ],
             [
              1,
              "#f0f921"
             ]
            ],
            "type": "heatmapgl"
           }
          ],
          "histogram": [
           {
            "marker": {
             "pattern": {
              "fillmode": "overlay",
              "size": 10,
              "solidity": 0.2
             }
            },
            "type": "histogram"
           }
          ],
          "histogram2d": [
           {
            "colorbar": {
             "outlinewidth": 0,
             "ticks": ""
            },
            "colorscale": [
             [
              0,
              "#0d0887"
             ],
             [
              0.1111111111111111,
              "#46039f"
             ],
             [
              0.2222222222222222,
              "#7201a8"
             ],
             [
              0.3333333333333333,
              "#9c179e"
             ],
             [
              0.4444444444444444,
              "#bd3786"
             ],
             [
              0.5555555555555556,
              "#d8576b"
             ],
             [
              0.6666666666666666,
              "#ed7953"
             ],
             [
              0.7777777777777778,
              "#fb9f3a"
             ],
             [
              0.8888888888888888,
              "#fdca26"
             ],
             [
              1,
              "#f0f921"
             ]
            ],
            "type": "histogram2d"
           }
          ],
          "histogram2dcontour": [
           {
            "colorbar": {
             "outlinewidth": 0,
             "ticks": ""
            },
            "colorscale": [
             [
              0,
              "#0d0887"
             ],
             [
              0.1111111111111111,
              "#46039f"
             ],
             [
              0.2222222222222222,
              "#7201a8"
             ],
             [
              0.3333333333333333,
              "#9c179e"
             ],
             [
              0.4444444444444444,
              "#bd3786"
             ],
             [
              0.5555555555555556,
              "#d8576b"
             ],
             [
              0.6666666666666666,
              "#ed7953"
             ],
             [
              0.7777777777777778,
              "#fb9f3a"
             ],
             [
              0.8888888888888888,
              "#fdca26"
             ],
             [
              1,
              "#f0f921"
             ]
            ],
            "type": "histogram2dcontour"
           }
          ],
          "mesh3d": [
           {
            "colorbar": {
             "outlinewidth": 0,
             "ticks": ""
            },
            "type": "mesh3d"
           }
          ],
          "parcoords": [
           {
            "line": {
             "colorbar": {
              "outlinewidth": 0,
              "ticks": ""
             }
            },
            "type": "parcoords"
           }
          ],
          "pie": [
           {
            "automargin": true,
            "type": "pie"
           }
          ],
          "scatter": [
           {
            "marker": {
             "colorbar": {
              "outlinewidth": 0,
              "ticks": ""
             }
            },
            "type": "scatter"
           }
          ],
          "scatter3d": [
           {
            "line": {
             "colorbar": {
              "outlinewidth": 0,
              "ticks": ""
             }
            },
            "marker": {
             "colorbar": {
              "outlinewidth": 0,
              "ticks": ""
             }
            },
            "type": "scatter3d"
           }
          ],
          "scattercarpet": [
           {
            "marker": {
             "colorbar": {
              "outlinewidth": 0,
              "ticks": ""
             }
            },
            "type": "scattercarpet"
           }
          ],
          "scattergeo": [
           {
            "marker": {
             "colorbar": {
              "outlinewidth": 0,
              "ticks": ""
             }
            },
            "type": "scattergeo"
           }
          ],
          "scattergl": [
           {
            "marker": {
             "colorbar": {
              "outlinewidth": 0,
              "ticks": ""
             }
            },
            "type": "scattergl"
           }
          ],
          "scattermapbox": [
           {
            "marker": {
             "colorbar": {
              "outlinewidth": 0,
              "ticks": ""
             }
            },
            "type": "scattermapbox"
           }
          ],
          "scatterpolar": [
           {
            "marker": {
             "colorbar": {
              "outlinewidth": 0,
              "ticks": ""
             }
            },
            "type": "scatterpolar"
           }
          ],
          "scatterpolargl": [
           {
            "marker": {
             "colorbar": {
              "outlinewidth": 0,
              "ticks": ""
             }
            },
            "type": "scatterpolargl"
           }
          ],
          "scatterternary": [
           {
            "marker": {
             "colorbar": {
              "outlinewidth": 0,
              "ticks": ""
             }
            },
            "type": "scatterternary"
           }
          ],
          "surface": [
           {
            "colorbar": {
             "outlinewidth": 0,
             "ticks": ""
            },
            "colorscale": [
             [
              0,
              "#0d0887"
             ],
             [
              0.1111111111111111,
              "#46039f"
             ],
             [
              0.2222222222222222,
              "#7201a8"
             ],
             [
              0.3333333333333333,
              "#9c179e"
             ],
             [
              0.4444444444444444,
              "#bd3786"
             ],
             [
              0.5555555555555556,
              "#d8576b"
             ],
             [
              0.6666666666666666,
              "#ed7953"
             ],
             [
              0.7777777777777778,
              "#fb9f3a"
             ],
             [
              0.8888888888888888,
              "#fdca26"
             ],
             [
              1,
              "#f0f921"
             ]
            ],
            "type": "surface"
           }
          ],
          "table": [
           {
            "cells": {
             "fill": {
              "color": "#EBF0F8"
             },
             "line": {
              "color": "white"
             }
            },
            "header": {
             "fill": {
              "color": "#C8D4E3"
             },
             "line": {
              "color": "white"
             }
            },
            "type": "table"
           }
          ]
         },
         "layout": {
          "annotationdefaults": {
           "arrowcolor": "#2a3f5f",
           "arrowhead": 0,
           "arrowwidth": 1
          },
          "autotypenumbers": "strict",
          "coloraxis": {
           "colorbar": {
            "outlinewidth": 0,
            "ticks": ""
           }
          },
          "colorscale": {
           "diverging": [
            [
             0,
             "#8e0152"
            ],
            [
             0.1,
             "#c51b7d"
            ],
            [
             0.2,
             "#de77ae"
            ],
            [
             0.3,
             "#f1b6da"
            ],
            [
             0.4,
             "#fde0ef"
            ],
            [
             0.5,
             "#f7f7f7"
            ],
            [
             0.6,
             "#e6f5d0"
            ],
            [
             0.7,
             "#b8e186"
            ],
            [
             0.8,
             "#7fbc41"
            ],
            [
             0.9,
             "#4d9221"
            ],
            [
             1,
             "#276419"
            ]
           ],
           "sequential": [
            [
             0,
             "#0d0887"
            ],
            [
             0.1111111111111111,
             "#46039f"
            ],
            [
             0.2222222222222222,
             "#7201a8"
            ],
            [
             0.3333333333333333,
             "#9c179e"
            ],
            [
             0.4444444444444444,
             "#bd3786"
            ],
            [
             0.5555555555555556,
             "#d8576b"
            ],
            [
             0.6666666666666666,
             "#ed7953"
            ],
            [
             0.7777777777777778,
             "#fb9f3a"
            ],
            [
             0.8888888888888888,
             "#fdca26"
            ],
            [
             1,
             "#f0f921"
            ]
           ],
           "sequentialminus": [
            [
             0,
             "#0d0887"
            ],
            [
             0.1111111111111111,
             "#46039f"
            ],
            [
             0.2222222222222222,
             "#7201a8"
            ],
            [
             0.3333333333333333,
             "#9c179e"
            ],
            [
             0.4444444444444444,
             "#bd3786"
            ],
            [
             0.5555555555555556,
             "#d8576b"
            ],
            [
             0.6666666666666666,
             "#ed7953"
            ],
            [
             0.7777777777777778,
             "#fb9f3a"
            ],
            [
             0.8888888888888888,
             "#fdca26"
            ],
            [
             1,
             "#f0f921"
            ]
           ]
          },
          "colorway": [
           "#636efa",
           "#EF553B",
           "#00cc96",
           "#ab63fa",
           "#FFA15A",
           "#19d3f3",
           "#FF6692",
           "#B6E880",
           "#FF97FF",
           "#FECB52"
          ],
          "font": {
           "color": "#2a3f5f"
          },
          "geo": {
           "bgcolor": "white",
           "lakecolor": "white",
           "landcolor": "#E5ECF6",
           "showlakes": true,
           "showland": true,
           "subunitcolor": "white"
          },
          "hoverlabel": {
           "align": "left"
          },
          "hovermode": "closest",
          "mapbox": {
           "style": "light"
          },
          "paper_bgcolor": "white",
          "plot_bgcolor": "#E5ECF6",
          "polar": {
           "angularaxis": {
            "gridcolor": "white",
            "linecolor": "white",
            "ticks": ""
           },
           "bgcolor": "#E5ECF6",
           "radialaxis": {
            "gridcolor": "white",
            "linecolor": "white",
            "ticks": ""
           }
          },
          "scene": {
           "xaxis": {
            "backgroundcolor": "#E5ECF6",
            "gridcolor": "white",
            "gridwidth": 2,
            "linecolor": "white",
            "showbackground": true,
            "ticks": "",
            "zerolinecolor": "white"
           },
           "yaxis": {
            "backgroundcolor": "#E5ECF6",
            "gridcolor": "white",
            "gridwidth": 2,
            "linecolor": "white",
            "showbackground": true,
            "ticks": "",
            "zerolinecolor": "white"
           },
           "zaxis": {
            "backgroundcolor": "#E5ECF6",
            "gridcolor": "white",
            "gridwidth": 2,
            "linecolor": "white",
            "showbackground": true,
            "ticks": "",
            "zerolinecolor": "white"
           }
          },
          "shapedefaults": {
           "line": {
            "color": "#2a3f5f"
           }
          },
          "ternary": {
           "aaxis": {
            "gridcolor": "white",
            "linecolor": "white",
            "ticks": ""
           },
           "baxis": {
            "gridcolor": "white",
            "linecolor": "white",
            "ticks": ""
           },
           "bgcolor": "#E5ECF6",
           "caxis": {
            "gridcolor": "white",
            "linecolor": "white",
            "ticks": ""
           }
          },
          "title": {
           "x": 0.05
          },
          "xaxis": {
           "automargin": true,
           "gridcolor": "white",
           "linecolor": "white",
           "ticks": "",
           "title": {
            "standoff": 15
           },
           "zerolinecolor": "white",
           "zerolinewidth": 2
          },
          "yaxis": {
           "automargin": true,
           "gridcolor": "white",
           "linecolor": "white",
           "ticks": "",
           "title": {
            "standoff": 15
           },
           "zerolinecolor": "white",
           "zerolinewidth": 2
          }
         }
        },
        "title": {
         "text": "<em><b>Predicción % Residuos Reciclados</b></em>",
         "x": 0.5,
         "y": 0.87
        },
        "width": 800,
        "xaxis": {
         "autorange": true,
         "range": [
          1997.7120141342757,
          2037.2879858657243
         ],
         "showgrid": false,
         "title": {
          "font": {
           "size": 14
          },
          "text": "Años"
         },
         "type": "linear"
        },
        "yaxis": {
         "autorange": true,
         "range": [
          9.900630285944423,
          70.10936971405557
         ],
         "showgrid": false,
         "title": {
          "font": {
           "size": 14
          },
          "text": "% Reciclado"
         },
         "type": "linear"
        }
       }
      },
      "image/png": "[encoded data removed]",
      "text/html": [
       "<div>                            <div id=\"dcc65dbe-621e-4df0-9dc6-4ceaf2b09639\" class=\"plotly-graph-div\" style=\"height:500px; width:800px;\"></div>            <script type=\"text/javascript\">                require([\"plotly\"], function(Plotly) {                    window.PLOTLYENV=window.PLOTLYENV || {};                                    if (document.getElementById(\"dcc65dbe-621e-4df0-9dc6-4ceaf2b09639\")) {                    Plotly.newPlot(                        \"dcc65dbe-621e-4df0-9dc6-4ceaf2b09639\",                        [{\"legendgroup\":\"UE\",\"line\":{\"color\":\"lightgreen\",\"dash\":\"dash\",\"width\":3},\"mode\":\"lines+markers+text\",\"name\":\"UE\",\"showlegend\":true,\"text\":[\"50%\",\"55%\",\"60%\",\"65%\"],\"textfont\":{\"color\":\"green\",\"size\":14},\"textposition\":\"top center\",\"visible\":true,\"x\":[2020,2025,2030,2035],\"y\":[50,55,60,65],\"type\":\"scatter\"},{\"legendgroup\":\"Espa\\u00f1a (2012-2020)\",\"line\":{\"color\":\"rgb(255, 181, 82)\",\"width\":3},\"marker\":{\"color\":\"rgb(255, 181, 82)\",\"size\":8,\"symbol\":\"circle\"},\"mode\":\"lines+markers+text\",\"name\":\"Espa\\u00f1a (2012-2020)\",\"showlegend\":true,\"text\":[\"29.8%\",\"\",\"\",\"\",\"\",\"\",\"\",\"40.6%\"],\"textfont\":{\"color\":\"rgb(255, 102, 0)\",\"size\":14},\"textposition\":\"bottom center\",\"visible\":true,\"x\":[2012,2014,2015,2016,2017,2018,2019,2020],\"y\":[29.79,30.81,29.98,33.86,36.11,35.02,37.96,40.56],\"type\":\"scatter\"},{\"legendgroup\":\"Predicci\\u00f3n Espa\\u00f1a (2021-2035)\",\"line\":{\"color\":\"rgb(255, 181, 82)\",\"dash\":\"dot\",\"width\":2},\"marker\":{\"color\":\"rgb(255, 181, 82)\",\"size\":[0,0,0,0,8,0,0,0,0,8,0,0,0,0,8],\"symbol\":\"circle\"},\"mode\":\"lines+markers+text\",\"name\":\"Predicci\\u00f3n Espa\\u00f1a (2021-2035)\",\"showlegend\":true,\"text\":[\"\",\"\",\"\",\"\",\"45.7%\",\"\",\"\",\"\",\"\",\"51.9%\",\"\",\"\",\"\",\"\",\"57.8%\"],\"textfont\":{\"color\":\"rgb(255, 102, 0)\",\"size\":14},\"textposition\":\"bottom center\",\"visible\":true,\"x\":[2021,2022,2023,2024,2025,2026,2027,2028,2029,2030,2031,2032,2033,2034,2035],\"y\":[40.56,41.87,43.17,44.45,45.72,46.98,48.23,49.46,50.69,51.9,53.1,54.28,55.46,56.63,57.78],\"type\":\"scatter\"},{\"legendgroup\":\"Catalu\\u00f1a (2000-2021)\",\"line\":{\"color\":\"lightblue\",\"width\":3},\"marker\":{\"color\":\"lightblue\",\"size\":8,\"symbol\":\"circle\"},\"mode\":\"lines+markers+text\",\"name\":\"Catalu\\u00f1a (2000-2021)\",\"showlegend\":true,\"text\":[\"14.0%\",\"\",\"\",\"\",\"\",\"\",\"\",\"\",\"\",\"\",\"\",\"\",\"\",\"\",\"\",\"\",\"\",\"\",\"\",\"\",\"45.9%\",\"\"],\"textfont\":{\"color\":\"darkblue\",\"size\":14},\"textposition\":\"bottom center\",\"visible\":true,\"x\":[2000,2001,2002,2003,2004,2005,2006,2007,2008,2009,2010,2011,2012,2013,2014,2015,2016,2017,2018,2019,2020,2021],\"y\":[13.96,16.85,19.8,22.64,25.42,29.11,31.95,33.6,34.41,37.53,40.54,40.6,39.1,37.95,38.19,38.98,38.61,39.88,41.77,44.9,45.91,46.63],\"type\":\"scatter\"},{\"legendgroup\":\"Predicci\\u00f3n Catalu\\u00f1a (2022-2035)\",\"line\":{\"color\":\"lightblue\",\"dash\":\"dot\",\"width\":2},\"marker\":{\"color\":\"lightblue\",\"size\":[0,0,0,8,0,0,0,0,8,0,0,0,0,8],\"symbol\":\"circle\"},\"mode\":\"lines+markers+text\",\"name\":\"Predicci\\u00f3n Catalu\\u00f1a (2022-2035)\",\"showlegend\":true,\"text\":[\"\",\"\",\"\",\"53.3%\",\"\",\"\",\"\",\"\",\"59.7%\",\"\",\"\",\"\",\"\",\"66.0%\"],\"textfont\":{\"color\":\"darkblue\",\"size\":14},\"textposition\":\"bottom center\",\"visible\":true,\"x\":[2022,2023,2024,2025,2026,2027,2028,2029,2030,2031,2032,2033,2034,2035],\"y\":[49.43,50.71,51.99,53.27,54.55,55.83,57.11,58.39,59.67,60.95,62.22,63.5,64.78,66.05],\"type\":\"scatter\"}],                        {\"template\":{\"data\":{\"bar\":[{\"error_x\":{\"color\":\"#2a3f5f\"},\"error_y\":{\"color\":\"#2a3f5f\"},\"marker\":{\"line\":{\"color\":\"#E5ECF6\",\"width\":0.5},\"pattern\":{\"fillmode\":\"overlay\",\"size\":10,\"solidity\":0.2}},\"type\":\"bar\"}],\"barpolar\":[{\"marker\":{\"line\":{\"color\":\"#E5ECF6\",\"width\":0.5},\"pattern\":{\"fillmode\":\"overlay\",\"size\":10,\"solidity\":0.2}},\"type\":\"barpolar\"}],\"carpet\":[{\"aaxis\":{\"endlinecolor\":\"#2a3f5f\",\"gridcolor\":\"white\",\"linecolor\":\"white\",\"minorgridcolor\":\"white\",\"startlinecolor\":\"#2a3f5f\"},\"baxis\":{\"endlinecolor\":\"#2a3f5f\",\"gridcolor\":\"white\",\"linecolor\":\"white\",\"minorgridcolor\":\"white\",\"startlinecolor\":\"#2a3f5f\"},\"type\":\"carpet\"}],\"choropleth\":[{\"colorbar\":{\"outlinewidth\":0,\"ticks\":\"\"},\"type\":\"choropleth\"}],\"contour\":[{\"colorbar\":{\"outlinewidth\":0,\"ticks\":\"\"},\"colorscale\":[[0.0,\"#0d0887\"],[0.1111111111111111,\"#46039f\"],[0.2222222222222222,\"#7201a8\"],[0.3333333333333333,\"#9c179e\"],[0.4444444444444444,\"#bd3786\"],[0.5555555555555556,\"#d8576b\"],[0.6666666666666666,\"#ed7953\"],[0.7777777777777778,\"#fb9f3a\"],[0.8888888888888888,\"#fdca26\"],[1.0,\"#f0f921\"]],\"type\":\"contour\"}],\"contourcarpet\":[{\"colorbar\":{\"outlinewidth\":0,\"ticks\":\"\"},\"type\":\"contourcarpet\"}],\"heatmap\":[{\"colorbar\":{\"outlinewidth\":0,\"ticks\":\"\"},\"colorscale\":[[0.0,\"#0d0887\"],[0.1111111111111111,\"#46039f\"],[0.2222222222222222,\"#7201a8\"],[0.3333333333333333,\"#9c179e\"],[0.4444444444444444,\"#bd3786\"],[0.5555555555555556,\"#d8576b\"],[0.6666666666666666,\"#ed7953\"],[0.7777777777777778,\"#fb9f3a\"],[0.8888888888888888,\"#fdca26\"],[1.0,\"#f0f921\"]],\"type\":\"heatmap\"}],\"heatmapgl\":[{\"colorbar\":{\"outlinewidth\":0,\"ticks\":\"\"},\"colorscale\":[[0.0,\"#0d0887\"],[0.1111111111111111,\"#46039f\"],[0.2222222222222222,\"#7201a8\"],[0.3333333333333333,\"#9c179e\"],[0.4444444444444444,\"#bd3786\"],[0.5555555555555556,\"#d8576b\"],[0.6666666666666666,\"#ed7953\"],[0.7777777777777778,\"#fb9f3a\"],[0.8888888888888888,\"#fdca26\"],[1.0,\"#f0f921\"]],\"type\":\"heatmapgl\"}],\"histogram\":[{\"marker\":{\"pattern\":{\"fillmode\":\"overlay\",\"size\":10,\"solidity\":0.2}},\"type\":\"histogram\"}],\"histogram2d\":[{\"colorbar\":{\"outlinewidth\":0,\"ticks\":\"\"},\"colorscale\":[[0.0,\"#0d0887\"],[0.1111111111111111,\"#46039f\"],[0.2222222222222222,\"#7201a8\"],[0.3333333333333333,\"#9c179e\"],[0.4444444444444444,\"#bd3786\"],[0.5555555555555556,\"#d8576b\"],[0.6666666666666666,\"#ed7953\"],[0.7777777777777778,\"#fb9f3a\"],[0.8888888888888888,\"#fdca26\"],[1.0,\"#f0f921\"]],\"type\":\"histogram2d\"}],\"histogram2dcontour\":[{\"colorbar\":{\"outlinewidth\":0,\"ticks\":\"\"},\"colorscale\":[[0.0,\"#0d0887\"],[0.1111111111111111,\"#46039f\"],[0.2222222222222222,\"#7201a8\"],[0.3333333333333333,\"#9c179e\"],[0.4444444444444444,\"#bd3786\"],[0.5555555555555556,\"#d8576b\"],[0.6666666666666666,\"#ed7953\"],[0.7777777777777778,\"#fb9f3a\"],[0.8888888888888888,\"#fdca26\"],[1.0,\"#f0f921\"]],\"type\":\"histogram2dcontour\"}],\"mesh3d\":[{\"colorbar\":{\"outlinewidth\":0,\"ticks\":\"\"},\"type\":\"mesh3d\"}],\"parcoords\":[{\"line\":{\"colorbar\":{\"outlinewidth\":0,\"ticks\":\"\"}},\"type\":\"parcoords\"}],\"pie\":[{\"automargin\":true,\"type\":\"pie\"}],\"scatter\":[{\"marker\":{\"colorbar\":{\"outlinewidth\":0,\"ticks\":\"\"}},\"type\":\"scatter\"}],\"scatter3d\":[{\"line\":{\"colorbar\":{\"outlinewidth\":0,\"ticks\":\"\"}},\"marker\":{\"colorbar\":{\"outlinewidth\":0,\"ticks\":\"\"}},\"type\":\"scatter3d\"}],\"scattercarpet\":[{\"marker\":{\"colorbar\":{\"outlinewidth\":0,\"ticks\":\"\"}},\"type\":\"scattercarpet\"}],\"scattergeo\":[{\"marker\":{\"colorbar\":{\"outlinewidth\":0,\"ticks\":\"\"}},\"type\":\"scattergeo\"}],\"scattergl\":[{\"marker\":{\"colorbar\":{\"outlinewidth\":0,\"ticks\":\"\"}},\"type\":\"scattergl\"}],\"scattermapbox\":[{\"marker\":{\"colorbar\":{\"outlinewidth\":0,\"ticks\":\"\"}},\"type\":\"scattermapbox\"}],\"scatterpolar\":[{\"marker\":{\"colorbar\":{\"outlinewidth\":0,\"ticks\":\"\"}},\"type\":\"scatterpolar\"}],\"scatterpolargl\":[{\"marker\":{\"colorbar\":{\"outlinewidth\":0,\"ticks\":\"\"}},\"type\":\"scatterpolargl\"}],\"scatterternary\":[{\"marker\":{\"colorbar\":{\"outlinewidth\":0,\"ticks\":\"\"}},\"type\":\"scatterternary\"}],\"surface\":[{\"colorbar\":{\"outlinewidth\":0,\"ticks\":\"\"},\"colorscale\":[[0.0,\"#0d0887\"],[0.1111111111111111,\"#46039f\"],[0.2222222222222222,\"#7201a8\"],[0.3333333333333333,\"#9c179e\"],[0.4444444444444444,\"#bd3786\"],[0.5555555555555556,\"#d8576b\"],[0.6666666666666666,\"#ed7953\"],[0.7777777777777778,\"#fb9f3a\"],[0.8888888888888888,\"#fdca26\"],[1.0,\"#f0f921\"]],\"type\":\"surface\"}],\"table\":[{\"cells\":{\"fill\":{\"color\":\"#EBF0F8\"},\"line\":{\"color\":\"white\"}},\"header\":{\"fill\":{\"color\":\"#C8D4E3\"},\"line\":{\"color\":\"white\"}},\"type\":\"table\"}]},\"layout\":{\"annotationdefaults\":{\"arrowcolor\":\"#2a3f5f\",\"arrowhead\":0,\"arrowwidth\":1},\"autotypenumbers\":\"strict\",\"coloraxis\":{\"colorbar\":{\"outlinewidth\":0,\"ticks\":\"\"}},\"colorscale\":{\"diverging\":[[0,\"#8e0152\"],[0.1,\"#c51b7d\"],[0.2,\"#de77ae\"],[0.3,\"#f1b6da\"],[0.4,\"#fde0ef\"],[0.5,\"#f7f7f7\"],[0.6,\"#e6f5d0\"],[0.7,\"#b8e186\"],[0.8,\"#7fbc41\"],[0.9,\"#4d9221\"],[1,\"#276419\"]],\"sequential\":[[0.0,\"#0d0887\"],[0.1111111111111111,\"#46039f\"],[0.2222222222222222,\"#7201a8\"],[0.3333333333333333,\"#9c179e\"],[0.4444444444444444,\"#bd3786\"],[0.5555555555555556,\"#d8576b\"],[0.6666666666666666,\"#ed7953\"],[0.7777777777777778,\"#fb9f3a\"],[0.8888888888888888,\"#fdca26\"],[1.0,\"#f0f921\"]],\"sequentialminus\":[[0.0,\"#0d0887\"],[0.1111111111111111,\"#46039f\"],[0.2222222222222222,\"#7201a8\"],[0.3333333333333333,\"#9c179e\"],[0.4444444444444444,\"#bd3786\"],[0.5555555555555556,\"#d8576b\"],[0.6666666666666666,\"#ed7953\"],[0.7777777777777778,\"#fb9f3a\"],[0.8888888888888888,\"#fdca26\"],[1.0,\"#f0f921\"]]},\"colorway\":[\"#636efa\",\"#EF553B\",\"#00cc96\",\"#ab63fa\",\"#FFA15A\",\"#19d3f3\",\"#FF6692\",\"#B6E880\",\"#FF97FF\",\"#FECB52\"],\"font\":{\"color\":\"#2a3f5f\"},\"geo\":{\"bgcolor\":\"white\",\"lakecolor\":\"white\",\"landcolor\":\"#E5ECF6\",\"showlakes\":true,\"showland\":true,\"subunitcolor\":\"white\"},\"hoverlabel\":{\"align\":\"left\"},\"hovermode\":\"closest\",\"mapbox\":{\"style\":\"light\"},\"paper_bgcolor\":\"white\",\"plot_bgcolor\":\"#E5ECF6\",\"polar\":{\"angularaxis\":{\"gridcolor\":\"white\",\"linecolor\":\"white\",\"ticks\":\"\"},\"bgcolor\":\"#E5ECF6\",\"radialaxis\":{\"gridcolor\":\"white\",\"linecolor\":\"white\",\"ticks\":\"\"}},\"scene\":{\"xaxis\":{\"backgroundcolor\":\"#E5ECF6\",\"gridcolor\":\"white\",\"gridwidth\":2,\"linecolor\":\"white\",\"showbackground\":true,\"ticks\":\"\",\"zerolinecolor\":\"white\"},\"yaxis\":{\"backgroundcolor\":\"#E5ECF6\",\"gridcolor\":\"white\",\"gridwidth\":2,\"linecolor\":\"white\",\"showbackground\":true,\"ticks\":\"\",\"zerolinecolor\":\"white\"},\"zaxis\":{\"backgroundcolor\":\"#E5ECF6\",\"gridcolor\":\"white\",\"gridwidth\":2,\"linecolor\":\"white\",\"showbackground\":true,\"ticks\":\"\",\"zerolinecolor\":\"white\"}},\"shapedefaults\":{\"line\":{\"color\":\"#2a3f5f\"}},\"ternary\":{\"aaxis\":{\"gridcolor\":\"white\",\"linecolor\":\"white\",\"ticks\":\"\"},\"baxis\":{\"gridcolor\":\"white\",\"linecolor\":\"white\",\"ticks\":\"\"},\"bgcolor\":\"#E5ECF6\",\"caxis\":{\"gridcolor\":\"white\",\"linecolor\":\"white\",\"ticks\":\"\"}},\"title\":{\"x\":0.05},\"xaxis\":{\"automargin\":true,\"gridcolor\":\"white\",\"linecolor\":\"white\",\"ticks\":\"\",\"title\":{\"standoff\":15},\"zerolinecolor\":\"white\",\"zerolinewidth\":2},\"yaxis\":{\"automargin\":true,\"gridcolor\":\"white\",\"linecolor\":\"white\",\"ticks\":\"\",\"title\":{\"standoff\":15},\"zerolinecolor\":\"white\",\"zerolinewidth\":2}}},\"title\":{\"text\":\"<em><b>Predicci\\u00f3n % Residuos Reciclados</b></em>\",\"x\":0.5,\"y\":0.87},\"xaxis\":{\"title\":{\"text\":\"A\\u00f1os\",\"font\":{\"size\":14}},\"showgrid\":false},\"yaxis\":{\"title\":{\"text\":\"% Reciclado\",\"font\":{\"size\":14}},\"showgrid\":false},\"legend\":{\"font\":{\"family\":\"Arial\",\"size\":12,\"color\":\"black\"},\"orientation\":\"h\",\"yanchor\":\"bottom\",\"y\":-0.35,\"xanchor\":\"center\",\"x\":0.5},\"showlegend\":true,\"height\":500,\"width\":800,\"plot_bgcolor\":\"rgb(240, 240, 240)\"},                        {\"responsive\": true}                    ).then(function(){\n",
       "                            \n",
       "var gd = document.getElementById('dcc65dbe-621e-4df0-9dc6-4ceaf2b09639');\n",
       "var x = new MutationObserver(function (mutations, observer) {{\n",
       "        var display = window.getComputedStyle(gd).display;\n",
       "        if (!display || display === 'none') {{\n",
       "            console.log([gd, 'removed!']);\n",
       "            Plotly.purge(gd);\n",
       "            observer.disconnect();\n",
       "        }}\n",
       "}});\n",
       "\n",
       "// Listen for the removal of the full notebook cells\n",
       "var notebookContainer = gd.closest('#notebook-container');\n",
       "if (notebookContainer) {{\n",
       "    x.observe(notebookContainer, {childList: true});\n",
       "}}\n",
       "\n",
       "// Listen for the clearing of the current output cell\n",
       "var outputEl = gd.closest('.output');\n",
       "if (outputEl) {{\n",
       "    x.observe(outputEl, {childList: true});\n",
       "}}\n",
       "\n",
       "                        })                };                });            </script>        </div>"
      ]
     },
     "metadata": {},
     "output_type": "display_data"
    }
   ],
   "source": [
    "# GRÁFICA LINEAL COMPARATIVA CON DATOS ESP-CAT-Unión Europea. \n",
    "import plotly.graph_objects as go\n",
    "\n",
    "# Datos de España\n",
    "año_es_1 = esp['Año'][esp['Año'] <= 2020]\n",
    "rs_rc_percent_es_1 = esp['RS / RE % Total'][esp['Año'] <= 2020]\n",
    "año_es_2 = esp['Año'][esp['Año'] >= 2021]\n",
    "rs_rc_percent_es_2 = esp['RS / RE % Total'][esp['Año'] >= 2021]\n",
    "\n",
    "# Datos de Catalunya\n",
    "año_cat_1 = cat['Any'][cat['Any'] <= 2021]\n",
    "rs_rc_percent_cat_1 = cat['RS / RC % Total'][cat['Any'] <= 2021]\n",
    "año_cat_2 = cat['Any'][cat['Any'] >= 2022]\n",
    "rs_rc_percent_cat_2 = cat['RS / RC % Total'][cat['Any'] >= 2022]\n",
    "\n",
    "# Datos de la UE\n",
    "años_ue = [2020, 2025, 2030, 2035]\n",
    "rs_rc_percent_ue = [50, 55, 60, 65]\n",
    "\n",
    "# Colores personalizados para cada línea y texto\n",
    "colores = {'España': {'linea': 'rgb(255, 181, 82)', 'texto': 'rgb(255, 102, 0)'},\n",
    "           'Cataluña': {'linea': 'lightblue', 'texto': 'darkblue'},\n",
    "           'UE': {'linea': 'lightgreen', 'texto': 'green'}}\n",
    "\n",
    "# Crear figura\n",
    "fig = go.Figure()\n",
    "\n",
    "# Línea de la UE\n",
    "fig.add_trace(go.Scatter(\n",
    "    x=años_ue,\n",
    "    y=rs_rc_percent_ue,\n",
    "    name='UE',\n",
    "    mode='lines+markers+text',\n",
    "    text=[f'{round(y, 1)}%' if x in [2020, 2025, 2030, 2035] else '' for x, y in zip(años_ue, rs_rc_percent_ue)],\n",
    "    textposition='top center',\n",
    "    textfont=dict(color=colores['UE']['texto'], size=14),\n",
    "    line=dict(color=colores['UE']['linea'], width=3, dash='dash'),\n",
    "    showlegend=True,\n",
    "    visible=True,\n",
    "    legendgroup='UE',\n",
    "))\n",
    "\n",
    "# Gráfico de línea para España (2012-2020)\n",
    "fig.add_trace(go.Scatter(\n",
    "    x=año_es_1,\n",
    "    y=rs_rc_percent_es_1,\n",
    "    name='España (2012-2020)',\n",
    "    mode='lines+markers+text',\n",
    "    line=dict(color=colores['España']['linea'], width=3),\n",
    "    marker=dict(symbol='circle', size=8, color=colores['España']['linea']),\n",
    "    text=[f'{round(y, 1)}%' if x in [2012, 2020] else '' for x, y in zip(año_es_1, rs_rc_percent_es_1)],\n",
    "    textfont=dict(color=colores['España']['texto'], size=14),\n",
    "    textposition='bottom center',\n",
    "    showlegend=True,\n",
    "    visible=True,\n",
    "    legendgroup='España (2012-2020)',\n",
    "))\n",
    "\n",
    "# Gráfico de línea para España (2021-2035)\n",
    "fig.add_trace(go.Scatter(\n",
    "    x=año_es_2,\n",
    "    y=rs_rc_percent_es_2,\n",
    "    name='Predicción España (2021-2035)',\n",
    "    mode='lines+markers+text',\n",
    "    line=dict(color=colores['España']['linea'], width=2, dash='dot'),\n",
    "    marker=dict(symbol='circle', size=[8 if x in [2025, 2030, 2035] else 0 for x in año_es_2], color=colores['España']['linea']),\n",
    "    text=[f'{round(y, 1)}%' if x in [2025, 2030, 2035] else '' for x, y in zip(año_es_2, rs_rc_percent_es_2)],\n",
    "    textfont=dict(color=colores['España']['texto'], size=14),\n",
    "    textposition='bottom center',\n",
    "    showlegend=True,\n",
    "    visible=True,\n",
    "    legendgroup='Predicción España (2021-2035)',\n",
    "))\n",
    "\n",
    "# Gráfico de línea para Catalunya (2000-2021)\n",
    "fig.add_trace(go.Scatter(\n",
    "    x=año_cat_1,\n",
    "    y=rs_rc_percent_cat_1,\n",
    "    name='Cataluña (2000-2021)',\n",
    "    mode='lines+markers+text',\n",
    "    line=dict(color=colores['Cataluña']['linea'], width=3),\n",
    "    marker=dict(symbol='circle', size=8, color=colores['Cataluña']['linea']),\n",
    "    text=[f'{round(y, 1)}%' if x in [2000, 2020] else '' for x, y in zip(año_cat_1, rs_rc_percent_cat_1)],\n",
    "    textfont=dict(color=colores['Cataluña']['texto'], size=14),\n",
    "    textposition='bottom center',\n",
    "    showlegend=True,\n",
    "    visible=True,\n",
    "    legendgroup='Cataluña (2000-2021)',\n",
    "))\n",
    "\n",
    "# Gráfico de línea para Catalunya (2022-2035)\n",
    "fig.add_trace(go.Scatter(\n",
    "    x=año_cat_2,\n",
    "    y=rs_rc_percent_cat_2,\n",
    "    name='Predicción Cataluña (2022-2035)',\n",
    "    mode='lines+markers+text',\n",
    "    line=dict(color=colores['Cataluña']['linea'], width=2, dash='dot'),\n",
    "    marker=dict(symbol='circle', size=[8 if x in [2025, 2030, 2035] else 0 for x in año_cat_2], color=colores['Cataluña']['linea']),\n",
    "    text=[f'{round(y, 1)}%' if x in [2025, 2030, 2035] else '' for x, y in zip(año_cat_2, rs_rc_percent_cat_2)],\n",
    "    textfont=dict(color=colores['Cataluña']['texto'], size=14),\n",
    "    textposition='bottom center',\n",
    "    showlegend=True,\n",
    "    visible=True,\n",
    "    legendgroup='Predicción Cataluña (2022-2035)',\n",
    "))\n",
    "\n",
    "# Configuración del diseño de la figura\n",
    "fig.update_layout(\n",
    "    title='<em><b>Predicción % Residuos Reciclados</b></em>',\n",
    "    title_x=0.5,\n",
    "    title_y=0.87,\n",
    "    xaxis=dict(title='Años', showgrid=False, title_font=dict(size=14)),\n",
    "    yaxis=dict(title='% Reciclado', showgrid=False, title_font=dict(size=14)),\n",
    "    showlegend=True,\n",
    "    height=500,\n",
    "    width=800,\n",
    "    legend=dict(\n",
    "        orientation='h',\n",
    "        yanchor='bottom',\n",
    "        y=-0.35,\n",
    "        xanchor='center',\n",
    "        x=0.5,\n",
    "        font=dict(\n",
    "            family=\"Arial\",\n",
    "            size=12,\n",
    "            color=\"black\"\n",
    "        )\n",
    "    ),\n",
    "    plot_bgcolor='white' #color de fondo\n",
    ")\n",
    "\n",
    "# Mostrar gráfica interactiva en la web\n",
    "fig.show()\n",
    "\n",
    "\n",
    "\n"
   ]
  },
  {
   "cell_type": "code",
   "execution_count": 19,
   "id": "a35ab9fe",
   "metadata": {},
   "outputs": [
    {
     "data": {
      "application/vnd.plotly.v1+json": {
       "config": {
        "plotlyServerURL": "https://plot.ly"
       },
       "data": [
        {
         "marker": {
          "color": "lightgreen"
         },
         "name": "Total Recollida Selectiva",
         "text": [
          "0.5t",
          "0.6t",
          "0.7t",
          "0.9t",
          "1.1t",
          "1.2t",
          "1.4t",
          "1.4t",
          "1.5t",
          "1.6t",
          "1.7t",
          "1.6t",
          "1.5t",
          "1.4t",
          "1.4t",
          "1.4t",
          "1.4t",
          "1.5t",
          "1.7t",
          "1.8t",
          "1.8t",
          "1.9t"
         ],
         "textposition": "auto",
         "type": "bar",
         "x": [
          2000,
          2001,
          2002,
          2003,
          2004,
          2005,
          2006,
          2007,
          2008,
          2009,
          2010,
          2011,
          2012,
          2013,
          2014,
          2015,
          2016,
          2017,
          2018,
          2019,
          2020,
          2021
         ],
         "y": [
          485070,
          603675,
          736790,
          892539,
          1050091,
          1222170,
          1364140,
          1444920,
          1471136,
          1575716,
          1698666,
          1642049,
          1460689,
          1361815,
          1390459,
          1444591,
          1440791,
          1532952,
          1661539,
          1816922,
          1824098,
          1877615
         ]
        },
        {
         "marker": {
          "color": "tan"
         },
         "name": "Total Fracció Resta",
         "text": [
          "3.0t",
          "3.0t",
          "3.0t",
          "3.1t",
          "3.1t",
          "3.0t",
          "2.9t",
          "2.9t",
          "2.8t",
          "2.6t",
          "2.5t",
          "2.4t",
          "2.3t",
          "2.2t",
          "2.3t",
          "2.3t",
          "2.3t",
          "2.3t",
          "2.3t",
          "2.2t",
          "2.1t",
          "2.1t"
         ],
         "textposition": "auto",
         "type": "bar",
         "x": [
          2000,
          2001,
          2002,
          2003,
          2004,
          2005,
          2006,
          2007,
          2008,
          2009,
          2010,
          2011,
          2012,
          2013,
          2014,
          2015,
          2016,
          2017,
          2018,
          2019,
          2020,
          2021
         ],
         "y": [
          2990154,
          2979879,
          2985052,
          3050499,
          3080497,
          2975745,
          2905295,
          2855589,
          2804035,
          2622877,
          2491289,
          2402062,
          2275260,
          2226821,
          2250904,
          2261652,
          2291341,
          2311344,
          2316494,
          2229690,
          2149095,
          2149412
         ]
        },
        {
         "hovertemplate": "%{text}",
         "line": {
          "color": "rgb(139, 69, 19)",
          "width": 3
         },
         "marker": {
          "color": "rgb(139, 69, 19)",
          "size": 8,
          "symbol": "square"
         },
         "mode": "lines+markers+text",
         "name": "% Total Fracció Resta",
         "text": [
          "86%",
          "83%",
          "80%",
          "77%",
          "75%",
          "71%",
          "68%",
          "66%",
          "66%",
          "62%",
          "59%",
          "59%",
          "61%",
          "62%",
          "62%",
          "61%",
          "61%",
          "60%",
          "58%",
          "55%",
          "54%",
          "53%",
          "51%",
          "49%",
          "48%",
          "47%",
          "45%",
          "44%",
          "43%",
          "42%",
          "40%",
          "39%",
          "38%",
          "36%",
          "35%",
          "34%"
         ],
         "textfont": {
          "color": "rgb(139, 69, 19)"
         },
         "textposition": "top center",
         "type": "scatter",
         "x": [
          2000,
          2001,
          2002,
          2003,
          2004,
          2005,
          2006,
          2007,
          2008,
          2009,
          2010,
          2011,
          2012,
          2013,
          2014,
          2015,
          2016,
          2017,
          2018,
          2019,
          2020,
          2021
         ],
         "y": [
          86.04,
          83.15,
          80.2,
          77.36,
          74.58,
          70.89,
          68.05,
          66.4,
          65.59,
          62.47,
          59.46,
          59.4,
          60.9,
          62.05,
          61.81,
          61.02,
          61.39,
          60.12,
          58.23,
          55.1,
          54.09,
          53.37,
          50.57,
          49.29,
          48.01,
          46.73,
          45.45,
          44.17,
          42.89,
          41.61,
          40.33,
          39.05,
          37.78,
          36.5,
          35.22,
          33.95
         ],
         "yaxis": "y2"
        },
        {
         "hovertemplate": "%{text}",
         "line": {
          "color": "rgb(50, 205, 50)",
          "width": 3
         },
         "marker": {
          "color": "rgb(50, 205, 50)",
          "size": 8,
          "symbol": "square"
         },
         "mode": "lines+markers+text",
         "name": "% Total Recollida Selectiva",
         "text": [
          "14%",
          "17%",
          "20%",
          "23%",
          "25%",
          "29%",
          "32%",
          "34%",
          "34%",
          "38%",
          "41%",
          "41%",
          "39%",
          "38%",
          "38%",
          "39%",
          "39%",
          "40%",
          "42%",
          "45%",
          "46%",
          "47%",
          "49%",
          "51%",
          "52%",
          "53%",
          "55%",
          "56%",
          "57%",
          "58%",
          "60%",
          "61%",
          "62%",
          "64%",
          "65%",
          "66%"
         ],
         "textfont": {
          "color": "green"
         },
         "textposition": "top center",
         "type": "scatter",
         "x": [
          2000,
          2001,
          2002,
          2003,
          2004,
          2005,
          2006,
          2007,
          2008,
          2009,
          2010,
          2011,
          2012,
          2013,
          2014,
          2015,
          2016,
          2017,
          2018,
          2019,
          2020,
          2021
         ],
         "y": [
          13.96,
          16.85,
          19.8,
          22.64,
          25.42,
          29.11,
          31.95,
          33.6,
          34.41,
          37.53,
          40.54,
          40.6,
          39.1,
          37.95,
          38.19,
          38.98,
          38.61,
          39.88,
          41.77,
          44.9,
          45.91,
          46.63,
          49.43,
          50.71,
          51.99,
          53.27,
          54.55,
          55.83,
          57.11,
          58.39,
          59.67,
          60.95,
          62.22,
          63.5,
          64.78,
          66.05
         ],
         "yaxis": "y2"
        }
       ],
       "layout": {
        "annotations": [
         {
          "font": {
           "color": "black",
           "size": 13
          },
          "showarrow": false,
          "text": "3.5t",
          "x": 2000,
          "xanchor": "center",
          "y": 3475225,
          "yanchor": "bottom"
         },
         {
          "font": {
           "color": "black",
           "size": 13
          },
          "showarrow": false,
          "text": "3.6t",
          "x": 2001,
          "xanchor": "center",
          "y": 3583554,
          "yanchor": "bottom"
         },
         {
          "font": {
           "color": "black",
           "size": 13
          },
          "showarrow": false,
          "text": "3.7t",
          "x": 2002,
          "xanchor": "center",
          "y": 3721843,
          "yanchor": "bottom"
         },
         {
          "font": {
           "color": "black",
           "size": 13
          },
          "showarrow": false,
          "text": "3.9t",
          "x": 2003,
          "xanchor": "center",
          "y": 3943039,
          "yanchor": "bottom"
         },
         {
          "font": {
           "color": "black",
           "size": 13
          },
          "showarrow": false,
          "text": "4.1t",
          "x": 2004,
          "xanchor": "center",
          "y": 4130589,
          "yanchor": "bottom"
         },
         {
          "font": {
           "color": "black",
           "size": 13
          },
          "showarrow": false,
          "text": "4.2t",
          "x": 2005,
          "xanchor": "center",
          "y": 4197916,
          "yanchor": "bottom"
         },
         {
          "font": {
           "color": "black",
           "size": 13
          },
          "showarrow": false,
          "text": "4.3t",
          "x": 2006,
          "xanchor": "center",
          "y": 4269435,
          "yanchor": "bottom"
         },
         {
          "font": {
           "color": "black",
           "size": 13
          },
          "showarrow": false,
          "text": "4.3t",
          "x": 2007,
          "xanchor": "center",
          "y": 4300509,
          "yanchor": "bottom"
         },
         {
          "font": {
           "color": "black",
           "size": 13
          },
          "showarrow": false,
          "text": "4.3t",
          "x": 2008,
          "xanchor": "center",
          "y": 4275171,
          "yanchor": "bottom"
         },
         {
          "font": {
           "color": "black",
           "size": 13
          },
          "showarrow": false,
          "text": "4.2t",
          "x": 2009,
          "xanchor": "center",
          "y": 4198594,
          "yanchor": "bottom"
         },
         {
          "font": {
           "color": "black",
           "size": 13
          },
          "showarrow": false,
          "text": "4.2t",
          "x": 2010,
          "xanchor": "center",
          "y": 4189955,
          "yanchor": "bottom"
         },
         {
          "font": {
           "color": "black",
           "size": 13
          },
          "showarrow": false,
          "text": "4.0t",
          "x": 2011,
          "xanchor": "center",
          "y": 4044112,
          "yanchor": "bottom"
         },
         {
          "font": {
           "color": "black",
           "size": 13
          },
          "showarrow": false,
          "text": "3.7t",
          "x": 2012,
          "xanchor": "center",
          "y": 3735949,
          "yanchor": "bottom"
         },
         {
          "font": {
           "color": "black",
           "size": 13
          },
          "showarrow": false,
          "text": "3.6t",
          "x": 2013,
          "xanchor": "center",
          "y": 3588637,
          "yanchor": "bottom"
         },
         {
          "font": {
           "color": "black",
           "size": 13
          },
          "showarrow": false,
          "text": "3.6t",
          "x": 2014,
          "xanchor": "center",
          "y": 3641364,
          "yanchor": "bottom"
         },
         {
          "font": {
           "color": "black",
           "size": 13
          },
          "showarrow": false,
          "text": "3.7t",
          "x": 2015,
          "xanchor": "center",
          "y": 3706243,
          "yanchor": "bottom"
         },
         {
          "font": {
           "color": "black",
           "size": 13
          },
          "showarrow": false,
          "text": "3.7t",
          "x": 2016,
          "xanchor": "center",
          "y": 3732133,
          "yanchor": "bottom"
         },
         {
          "font": {
           "color": "black",
           "size": 13
          },
          "showarrow": false,
          "text": "3.8t",
          "x": 2017,
          "xanchor": "center",
          "y": 3844296,
          "yanchor": "bottom"
         },
         {
          "font": {
           "color": "black",
           "size": 13
          },
          "showarrow": false,
          "text": "4.0t",
          "x": 2018,
          "xanchor": "center",
          "y": 3978033,
          "yanchor": "bottom"
         },
         {
          "font": {
           "color": "black",
           "size": 13
          },
          "showarrow": false,
          "text": "4.0t",
          "x": 2019,
          "xanchor": "center",
          "y": 4046613,
          "yanchor": "bottom"
         },
         {
          "font": {
           "color": "black",
           "size": 13
          },
          "showarrow": false,
          "text": "4.0t",
          "x": 2020,
          "xanchor": "center",
          "y": 3973194,
          "yanchor": "bottom"
         },
         {
          "font": {
           "color": "black",
           "size": 13
          },
          "showarrow": false,
          "text": "4.0t",
          "x": 2021,
          "xanchor": "center",
          "y": 4027027,
          "yanchor": "bottom"
         }
        ],
        "autosize": true,
        "barmode": "stack",
        "legend": {
         "orientation": "h",
         "x": 0.5,
         "xanchor": "center",
         "y": -0.4,
         "yanchor": "bottom"
        },
        "margin": {
         "t": 100
        },
        "template": {
         "data": {
          "bar": [
           {
            "error_x": {
             "color": "#2a3f5f"
            },
            "error_y": {
             "color": "#2a3f5f"
            },
            "marker": {
             "line": {
              "color": "#E5ECF6",
              "width": 0.5
             },
             "pattern": {
              "fillmode": "overlay",
              "size": 10,
              "solidity": 0.2
             }
            },
            "type": "bar"
           }
          ],
          "barpolar": [
           {
            "marker": {
             "line": {
              "color": "#E5ECF6",
              "width": 0.5
             },
             "pattern": {
              "fillmode": "overlay",
              "size": 10,
              "solidity": 0.2
             }
            },
            "type": "barpolar"
           }
          ],
          "carpet": [
           {
            "aaxis": {
             "endlinecolor": "#2a3f5f",
             "gridcolor": "white",
             "linecolor": "white",
             "minorgridcolor": "white",
             "startlinecolor": "#2a3f5f"
            },
            "baxis": {
             "endlinecolor": "#2a3f5f",
             "gridcolor": "white",
             "linecolor": "white",
             "minorgridcolor": "white",
             "startlinecolor": "#2a3f5f"
            },
            "type": "carpet"
           }
          ],
          "choropleth": [
           {
            "colorbar": {
             "outlinewidth": 0,
             "ticks": ""
            },
            "type": "choropleth"
           }
          ],
          "contour": [
           {
            "colorbar": {
             "outlinewidth": 0,
             "ticks": ""
            },
            "colorscale": [
             [
              0,
              "#0d0887"
             ],
             [
              0.1111111111111111,
              "#46039f"
             ],
             [
              0.2222222222222222,
              "#7201a8"
             ],
             [
              0.3333333333333333,
              "#9c179e"
             ],
             [
              0.4444444444444444,
              "#bd3786"
             ],
             [
              0.5555555555555556,
              "#d8576b"
             ],
             [
              0.6666666666666666,
              "#ed7953"
             ],
             [
              0.7777777777777778,
              "#fb9f3a"
             ],
             [
              0.8888888888888888,
              "#fdca26"
             ],
             [
              1,
              "#f0f921"
             ]
            ],
            "type": "contour"
           }
          ],
          "contourcarpet": [
           {
            "colorbar": {
             "outlinewidth": 0,
             "ticks": ""
            },
            "type": "contourcarpet"
           }
          ],
          "heatmap": [
           {
            "colorbar": {
             "outlinewidth": 0,
             "ticks": ""
            },
            "colorscale": [
             [
              0,
              "#0d0887"
             ],
             [
              0.1111111111111111,
              "#46039f"
             ],
             [
              0.2222222222222222,
              "#7201a8"
             ],
             [
              0.3333333333333333,
              "#9c179e"
             ],
             [
              0.4444444444444444,
              "#bd3786"
             ],
             [
              0.5555555555555556,
              "#d8576b"
             ],
             [
              0.6666666666666666,
              "#ed7953"
             ],
             [
              0.7777777777777778,
              "#fb9f3a"
             ],
             [
              0.8888888888888888,
              "#fdca26"
             ],
             [
              1,
              "#f0f921"
             ]
            ],
            "type": "heatmap"
           }
          ],
          "heatmapgl": [
           {
            "colorbar": {
             "outlinewidth": 0,
             "ticks": ""
            },
            "colorscale": [
             [
              0,
              "#0d0887"
             ],
             [
              0.1111111111111111,
              "#46039f"
             ],
             [
              0.2222222222222222,
              "#7201a8"
             ],
             [
              0.3333333333333333,
              "#9c179e"
             ],
             [
              0.4444444444444444,
              "#bd3786"
             ],
             [
              0.5555555555555556,
              "#d8576b"
             ],
             [
              0.6666666666666666,
              "#ed7953"
             ],
             [
              0.7777777777777778,
              "#fb9f3a"
             ],
             [
              0.8888888888888888,
              "#fdca26"
             ],
             [
              1,
              "#f0f921"
             ]
            ],
            "type": "heatmapgl"
           }
          ],
          "histogram": [
           {
            "marker": {
             "pattern": {
              "fillmode": "overlay",
              "size": 10,
              "solidity": 0.2
             }
            },
            "type": "histogram"
           }
          ],
          "histogram2d": [
           {
            "colorbar": {
             "outlinewidth": 0,
             "ticks": ""
            },
            "colorscale": [
             [
              0,
              "#0d0887"
             ],
             [
              0.1111111111111111,
              "#46039f"
             ],
             [
              0.2222222222222222,
              "#7201a8"
             ],
             [
              0.3333333333333333,
              "#9c179e"
             ],
             [
              0.4444444444444444,
              "#bd3786"
             ],
             [
              0.5555555555555556,
              "#d8576b"
             ],
             [
              0.6666666666666666,
              "#ed7953"
             ],
             [
              0.7777777777777778,
              "#fb9f3a"
             ],
             [
              0.8888888888888888,
              "#fdca26"
             ],
             [
              1,
              "#f0f921"
             ]
            ],
            "type": "histogram2d"
           }
          ],
          "histogram2dcontour": [
           {
            "colorbar": {
             "outlinewidth": 0,
             "ticks": ""
            },
            "colorscale": [
             [
              0,
              "#0d0887"
             ],
             [
              0.1111111111111111,
              "#46039f"
             ],
             [
              0.2222222222222222,
              "#7201a8"
             ],
             [
              0.3333333333333333,
              "#9c179e"
             ],
             [
              0.4444444444444444,
              "#bd3786"
             ],
             [
              0.5555555555555556,
              "#d8576b"
             ],
             [
              0.6666666666666666,
              "#ed7953"
             ],
             [
              0.7777777777777778,
              "#fb9f3a"
             ],
             [
              0.8888888888888888,
              "#fdca26"
             ],
             [
              1,
              "#f0f921"
             ]
            ],
            "type": "histogram2dcontour"
           }
          ],
          "mesh3d": [
           {
            "colorbar": {
             "outlinewidth": 0,
             "ticks": ""
            },
            "type": "mesh3d"
           }
          ],
          "parcoords": [
           {
            "line": {
             "colorbar": {
              "outlinewidth": 0,
              "ticks": ""
             }
            },
            "type": "parcoords"
           }
          ],
          "pie": [
           {
            "automargin": true,
            "type": "pie"
           }
          ],
          "scatter": [
           {
            "marker": {
             "colorbar": {
              "outlinewidth": 0,
              "ticks": ""
             }
            },
            "type": "scatter"
           }
          ],
          "scatter3d": [
           {
            "line": {
             "colorbar": {
              "outlinewidth": 0,
              "ticks": ""
             }
            },
            "marker": {
             "colorbar": {
              "outlinewidth": 0,
              "ticks": ""
             }
            },
            "type": "scatter3d"
           }
          ],
          "scattercarpet": [
           {
            "marker": {
             "colorbar": {
              "outlinewidth": 0,
              "ticks": ""
             }
            },
            "type": "scattercarpet"
           }
          ],
          "scattergeo": [
           {
            "marker": {
             "colorbar": {
              "outlinewidth": 0,
              "ticks": ""
             }
            },
            "type": "scattergeo"
           }
          ],
          "scattergl": [
           {
            "marker": {
             "colorbar": {
              "outlinewidth": 0,
              "ticks": ""
             }
            },
            "type": "scattergl"
           }
          ],
          "scattermapbox": [
           {
            "marker": {
             "colorbar": {
              "outlinewidth": 0,
              "ticks": ""
             }
            },
            "type": "scattermapbox"
           }
          ],
          "scatterpolar": [
           {
            "marker": {
             "colorbar": {
              "outlinewidth": 0,
              "ticks": ""
             }
            },
            "type": "scatterpolar"
           }
          ],
          "scatterpolargl": [
           {
            "marker": {
             "colorbar": {
              "outlinewidth": 0,
              "ticks": ""
             }
            },
            "type": "scatterpolargl"
           }
          ],
          "scatterternary": [
           {
            "marker": {
             "colorbar": {
              "outlinewidth": 0,
              "ticks": ""
             }
            },
            "type": "scatterternary"
           }
          ],
          "surface": [
           {
            "colorbar": {
             "outlinewidth": 0,
             "ticks": ""
            },
            "colorscale": [
             [
              0,
              "#0d0887"
             ],
             [
              0.1111111111111111,
              "#46039f"
             ],
             [
              0.2222222222222222,
              "#7201a8"
             ],
             [
              0.3333333333333333,
              "#9c179e"
             ],
             [
              0.4444444444444444,
              "#bd3786"
             ],
             [
              0.5555555555555556,
              "#d8576b"
             ],
             [
              0.6666666666666666,
              "#ed7953"
             ],
             [
              0.7777777777777778,
              "#fb9f3a"
             ],
             [
              0.8888888888888888,
              "#fdca26"
             ],
             [
              1,
              "#f0f921"
             ]
            ],
            "type": "surface"
           }
          ],
          "table": [
           {
            "cells": {
             "fill": {
              "color": "#EBF0F8"
             },
             "line": {
              "color": "white"
             }
            },
            "header": {
             "fill": {
              "color": "#C8D4E3"
             },
             "line": {
              "color": "white"
             }
            },
            "type": "table"
           }
          ]
         },
         "layout": {
          "annotationdefaults": {
           "arrowcolor": "#2a3f5f",
           "arrowhead": 0,
           "arrowwidth": 1
          },
          "autotypenumbers": "strict",
          "coloraxis": {
           "colorbar": {
            "outlinewidth": 0,
            "ticks": ""
           }
          },
          "colorscale": {
           "diverging": [
            [
             0,
             "#8e0152"
            ],
            [
             0.1,
             "#c51b7d"
            ],
            [
             0.2,
             "#de77ae"
            ],
            [
             0.3,
             "#f1b6da"
            ],
            [
             0.4,
             "#fde0ef"
            ],
            [
             0.5,
             "#f7f7f7"
            ],
            [
             0.6,
             "#e6f5d0"
            ],
            [
             0.7,
             "#b8e186"
            ],
            [
             0.8,
             "#7fbc41"
            ],
            [
             0.9,
             "#4d9221"
            ],
            [
             1,
             "#276419"
            ]
           ],
           "sequential": [
            [
             0,
             "#0d0887"
            ],
            [
             0.1111111111111111,
             "#46039f"
            ],
            [
             0.2222222222222222,
             "#7201a8"
            ],
            [
             0.3333333333333333,
             "#9c179e"
            ],
            [
             0.4444444444444444,
             "#bd3786"
            ],
            [
             0.5555555555555556,
             "#d8576b"
            ],
            [
             0.6666666666666666,
             "#ed7953"
            ],
            [
             0.7777777777777778,
             "#fb9f3a"
            ],
            [
             0.8888888888888888,
             "#fdca26"
            ],
            [
             1,
             "#f0f921"
            ]
           ],
           "sequentialminus": [
            [
             0,
             "#0d0887"
            ],
            [
             0.1111111111111111,
             "#46039f"
            ],
            [
             0.2222222222222222,
             "#7201a8"
            ],
            [
             0.3333333333333333,
             "#9c179e"
            ],
            [
             0.4444444444444444,
             "#bd3786"
            ],
            [
             0.5555555555555556,
             "#d8576b"
            ],
            [
             0.6666666666666666,
             "#ed7953"
            ],
            [
             0.7777777777777778,
             "#fb9f3a"
            ],
            [
             0.8888888888888888,
             "#fdca26"
            ],
            [
             1,
             "#f0f921"
            ]
           ]
          },
          "colorway": [
           "#636efa",
           "#EF553B",
           "#00cc96",
           "#ab63fa",
           "#FFA15A",
           "#19d3f3",
           "#FF6692",
           "#B6E880",
           "#FF97FF",
           "#FECB52"
          ],
          "font": {
           "color": "#2a3f5f"
          },
          "geo": {
           "bgcolor": "white",
           "lakecolor": "white",
           "landcolor": "#E5ECF6",
           "showlakes": true,
           "showland": true,
           "subunitcolor": "white"
          },
          "hoverlabel": {
           "align": "left"
          },
          "hovermode": "closest",
          "mapbox": {
           "style": "light"
          },
          "paper_bgcolor": "white",
          "plot_bgcolor": "#E5ECF6",
          "polar": {
           "angularaxis": {
            "gridcolor": "white",
            "linecolor": "white",
            "ticks": ""
           },
           "bgcolor": "#E5ECF6",
           "radialaxis": {
            "gridcolor": "white",
            "linecolor": "white",
            "ticks": ""
           }
          },
          "scene": {
           "xaxis": {
            "backgroundcolor": "#E5ECF6",
            "gridcolor": "white",
            "gridwidth": 2,
            "linecolor": "white",
            "showbackground": true,
            "ticks": "",
            "zerolinecolor": "white"
           },
           "yaxis": {
            "backgroundcolor": "#E5ECF6",
            "gridcolor": "white",
            "gridwidth": 2,
            "linecolor": "white",
            "showbackground": true,
            "ticks": "",
            "zerolinecolor": "white"
           },
           "zaxis": {
            "backgroundcolor": "#E5ECF6",
            "gridcolor": "white",
            "gridwidth": 2,
            "linecolor": "white",
            "showbackground": true,
            "ticks": "",
            "zerolinecolor": "white"
           }
          },
          "shapedefaults": {
           "line": {
            "color": "#2a3f5f"
           }
          },
          "ternary": {
           "aaxis": {
            "gridcolor": "white",
            "linecolor": "white",
            "ticks": ""
           },
           "baxis": {
            "gridcolor": "white",
            "linecolor": "white",
            "ticks": ""
           },
           "bgcolor": "#E5ECF6",
           "caxis": {
            "gridcolor": "white",
            "linecolor": "white",
            "ticks": ""
           }
          },
          "title": {
           "x": 0.05
          },
          "xaxis": {
           "automargin": true,
           "gridcolor": "white",
           "linecolor": "white",
           "ticks": "",
           "title": {
            "standoff": 15
           },
           "zerolinecolor": "white",
           "zerolinewidth": 2
          },
          "yaxis": {
           "automargin": true,
           "gridcolor": "white",
           "linecolor": "white",
           "ticks": "",
           "title": {
            "standoff": 15
           },
           "zerolinecolor": "white",
           "zerolinewidth": 2
          }
         }
        },
        "title": {
         "font": {
          "size": 16
         },
         "text": "<em><b>Evolución Reciclaje Cataluña</b></em>",
         "x": 0.5,
         "y": 0.88
        },
        "xaxis": {
         "range": [
          1999.5,
          2021.5
         ],
         "showgrid": false,
         "title": {
          "font": {
           "size": 14
          },
          "text": "Años"
         },
         "type": "linear"
        },
        "yaxis": {
         "autorange": true,
         "range": [
          0,
          4848344.541401274
         ],
         "tickformat": ".0f",
         "ticktext": [
          "1T",
          "2T",
          "3T",
          "4T",
          "5T"
         ],
         "tickvals": [
          1000000,
          2000000,
          3000000,
          4000000,
          5000000
         ],
         "title": {
          "text": "Toneladas"
         },
         "type": "linear"
        },
        "yaxis2": {
         "overlaying": "y",
         "range": [
          0,
          100
         ],
         "side": "right",
         "tickformat": ".0f",
         "title": {
          "text": "%"
         },
         "type": "linear"
        }
       }
      },
      "image/png": "[encoded data removed]",
      "text/html": [
       "<div>                            <div id=\"d2deff85-81e9-431f-9c5c-16fa3f57c3cd\" class=\"plotly-graph-div\" style=\"height:525px; width:100%;\"></div>            <script type=\"text/javascript\">                require([\"plotly\"], function(Plotly) {                    window.PLOTLYENV=window.PLOTLYENV || {};                                    if (document.getElementById(\"d2deff85-81e9-431f-9c5c-16fa3f57c3cd\")) {                    Plotly.newPlot(                        \"d2deff85-81e9-431f-9c5c-16fa3f57c3cd\",                        [{\"marker\":{\"color\":\"lightgreen\"},\"name\":\"Total Recollida Selectiva\",\"text\":[\"0.5t\",\"0.6t\",\"0.7t\",\"0.9t\",\"1.1t\",\"1.2t\",\"1.4t\",\"1.4t\",\"1.5t\",\"1.6t\",\"1.7t\",\"1.6t\",\"1.5t\",\"1.4t\",\"1.4t\",\"1.4t\",\"1.4t\",\"1.5t\",\"1.7t\",\"1.8t\",\"1.8t\",\"1.9t\"],\"textposition\":\"auto\",\"x\":[2000,2001,2002,2003,2004,2005,2006,2007,2008,2009,2010,2011,2012,2013,2014,2015,2016,2017,2018,2019,2020,2021],\"y\":[485070,603675,736790,892539,1050091,1222170,1364140,1444920,1471136,1575716,1698666,1642049,1460689,1361815,1390459,1444591,1440791,1532952,1661539,1816922,1824098,1877615],\"type\":\"bar\"},{\"marker\":{\"color\":\"tan\"},\"name\":\"Total Fracci\\u00f3 Resta\",\"text\":[\"3.0t\",\"3.0t\",\"3.0t\",\"3.1t\",\"3.1t\",\"3.0t\",\"2.9t\",\"2.9t\",\"2.8t\",\"2.6t\",\"2.5t\",\"2.4t\",\"2.3t\",\"2.2t\",\"2.3t\",\"2.3t\",\"2.3t\",\"2.3t\",\"2.3t\",\"2.2t\",\"2.1t\",\"2.1t\"],\"textposition\":\"auto\",\"x\":[2000,2001,2002,2003,2004,2005,2006,2007,2008,2009,2010,2011,2012,2013,2014,2015,2016,2017,2018,2019,2020,2021],\"y\":[2990154,2979879,2985052,3050499,3080497,2975745,2905295,2855589,2804035,2622877,2491289,2402062,2275260,2226821,2250904,2261652,2291341,2311344,2316494,2229690,2149095,2149412],\"type\":\"bar\"},{\"hovertemplate\":\"%{text}\",\"line\":{\"color\":\"rgb(139, 69, 19)\",\"width\":3},\"marker\":{\"color\":\"rgb(139, 69, 19)\",\"size\":8,\"symbol\":\"square\"},\"mode\":\"lines+markers+text\",\"name\":\"% Total Fracci\\u00f3 Resta\",\"text\":[\"86%\",\"83%\",\"80%\",\"77%\",\"75%\",\"71%\",\"68%\",\"66%\",\"66%\",\"62%\",\"59%\",\"59%\",\"61%\",\"62%\",\"62%\",\"61%\",\"61%\",\"60%\",\"58%\",\"55%\",\"54%\",\"53%\",\"51%\",\"49%\",\"48%\",\"47%\",\"45%\",\"44%\",\"43%\",\"42%\",\"40%\",\"39%\",\"38%\",\"36%\",\"35%\",\"34%\"],\"textfont\":{\"color\":\"rgb(139, 69, 19)\"},\"textposition\":\"top center\",\"x\":[2000,2001,2002,2003,2004,2005,2006,2007,2008,2009,2010,2011,2012,2013,2014,2015,2016,2017,2018,2019,2020,2021],\"y\":[86.04,83.15,80.2,77.36,74.58,70.89,68.05,66.4,65.59,62.47,59.46,59.4,60.9,62.05,61.81,61.02,61.39,60.12,58.23,55.1,54.09,53.37,50.57,49.29,48.01,46.73,45.45,44.17,42.89,41.61,40.33,39.05,37.78,36.5,35.22,33.95],\"yaxis\":\"y2\",\"type\":\"scatter\"},{\"hovertemplate\":\"%{text}\",\"line\":{\"color\":\"rgb(50, 205, 50)\",\"width\":3},\"marker\":{\"color\":\"rgb(50, 205, 50)\",\"size\":8,\"symbol\":\"square\"},\"mode\":\"lines+markers+text\",\"name\":\"% Total Recollida Selectiva\",\"text\":[\"14%\",\"17%\",\"20%\",\"23%\",\"25%\",\"29%\",\"32%\",\"34%\",\"34%\",\"38%\",\"41%\",\"41%\",\"39%\",\"38%\",\"38%\",\"39%\",\"39%\",\"40%\",\"42%\",\"45%\",\"46%\",\"47%\",\"49%\",\"51%\",\"52%\",\"53%\",\"55%\",\"56%\",\"57%\",\"58%\",\"60%\",\"61%\",\"62%\",\"64%\",\"65%\",\"66%\"],\"textfont\":{\"color\":\"green\"},\"textposition\":\"top center\",\"x\":[2000,2001,2002,2003,2004,2005,2006,2007,2008,2009,2010,2011,2012,2013,2014,2015,2016,2017,2018,2019,2020,2021],\"y\":[13.96,16.85,19.8,22.64,25.42,29.11,31.95,33.6,34.41,37.53,40.54,40.6,39.1,37.95,38.19,38.98,38.61,39.88,41.77,44.9,45.91,46.63,49.43,50.71,51.99,53.27,54.55,55.83,57.11,58.39,59.67,60.95,62.22,63.5,64.78,66.05],\"yaxis\":\"y2\",\"type\":\"scatter\"}],                        {\"template\":{\"data\":{\"bar\":[{\"error_x\":{\"color\":\"#2a3f5f\"},\"error_y\":{\"color\":\"#2a3f5f\"},\"marker\":{\"line\":{\"color\":\"#E5ECF6\",\"width\":0.5},\"pattern\":{\"fillmode\":\"overlay\",\"size\":10,\"solidity\":0.2}},\"type\":\"bar\"}],\"barpolar\":[{\"marker\":{\"line\":{\"color\":\"#E5ECF6\",\"width\":0.5},\"pattern\":{\"fillmode\":\"overlay\",\"size\":10,\"solidity\":0.2}},\"type\":\"barpolar\"}],\"carpet\":[{\"aaxis\":{\"endlinecolor\":\"#2a3f5f\",\"gridcolor\":\"white\",\"linecolor\":\"white\",\"minorgridcolor\":\"white\",\"startlinecolor\":\"#2a3f5f\"},\"baxis\":{\"endlinecolor\":\"#2a3f5f\",\"gridcolor\":\"white\",\"linecolor\":\"white\",\"minorgridcolor\":\"white\",\"startlinecolor\":\"#2a3f5f\"},\"type\":\"carpet\"}],\"choropleth\":[{\"colorbar\":{\"outlinewidth\":0,\"ticks\":\"\"},\"type\":\"choropleth\"}],\"contour\":[{\"colorbar\":{\"outlinewidth\":0,\"ticks\":\"\"},\"colorscale\":[[0.0,\"#0d0887\"],[0.1111111111111111,\"#46039f\"],[0.2222222222222222,\"#7201a8\"],[0.3333333333333333,\"#9c179e\"],[0.4444444444444444,\"#bd3786\"],[0.5555555555555556,\"#d8576b\"],[0.6666666666666666,\"#ed7953\"],[0.7777777777777778,\"#fb9f3a\"],[0.8888888888888888,\"#fdca26\"],[1.0,\"#f0f921\"]],\"type\":\"contour\"}],\"contourcarpet\":[{\"colorbar\":{\"outlinewidth\":0,\"ticks\":\"\"},\"type\":\"contourcarpet\"}],\"heatmap\":[{\"colorbar\":{\"outlinewidth\":0,\"ticks\":\"\"},\"colorscale\":[[0.0,\"#0d0887\"],[0.1111111111111111,\"#46039f\"],[0.2222222222222222,\"#7201a8\"],[0.3333333333333333,\"#9c179e\"],[0.4444444444444444,\"#bd3786\"],[0.5555555555555556,\"#d8576b\"],[0.6666666666666666,\"#ed7953\"],[0.7777777777777778,\"#fb9f3a\"],[0.8888888888888888,\"#fdca26\"],[1.0,\"#f0f921\"]],\"type\":\"heatmap\"}],\"heatmapgl\":[{\"colorbar\":{\"outlinewidth\":0,\"ticks\":\"\"},\"colorscale\":[[0.0,\"#0d0887\"],[0.1111111111111111,\"#46039f\"],[0.2222222222222222,\"#7201a8\"],[0.3333333333333333,\"#9c179e\"],[0.4444444444444444,\"#bd3786\"],[0.5555555555555556,\"#d8576b\"],[0.6666666666666666,\"#ed7953\"],[0.7777777777777778,\"#fb9f3a\"],[0.8888888888888888,\"#fdca26\"],[1.0,\"#f0f921\"]],\"type\":\"heatmapgl\"}],\"histogram\":[{\"marker\":{\"pattern\":{\"fillmode\":\"overlay\",\"size\":10,\"solidity\":0.2}},\"type\":\"histogram\"}],\"histogram2d\":[{\"colorbar\":{\"outlinewidth\":0,\"ticks\":\"\"},\"colorscale\":[[0.0,\"#0d0887\"],[0.1111111111111111,\"#46039f\"],[0.2222222222222222,\"#7201a8\"],[0.3333333333333333,\"#9c179e\"],[0.4444444444444444,\"#bd3786\"],[0.5555555555555556,\"#d8576b\"],[0.6666666666666666,\"#ed7953\"],[0.7777777777777778,\"#fb9f3a\"],[0.8888888888888888,\"#fdca26\"],[1.0,\"#f0f921\"]],\"type\":\"histogram2d\"}],\"histogram2dcontour\":[{\"colorbar\":{\"outlinewidth\":0,\"ticks\":\"\"},\"colorscale\":[[0.0,\"#0d0887\"],[0.1111111111111111,\"#46039f\"],[0.2222222222222222,\"#7201a8\"],[0.3333333333333333,\"#9c179e\"],[0.4444444444444444,\"#bd3786\"],[0.5555555555555556,\"#d8576b\"],[0.6666666666666666,\"#ed7953\"],[0.7777777777777778,\"#fb9f3a\"],[0.8888888888888888,\"#fdca26\"],[1.0,\"#f0f921\"]],\"type\":\"histogram2dcontour\"}],\"mesh3d\":[{\"colorbar\":{\"outlinewidth\":0,\"ticks\":\"\"},\"type\":\"mesh3d\"}],\"parcoords\":[{\"line\":{\"colorbar\":{\"outlinewidth\":0,\"ticks\":\"\"}},\"type\":\"parcoords\"}],\"pie\":[{\"automargin\":true,\"type\":\"pie\"}],\"scatter\":[{\"marker\":{\"colorbar\":{\"outlinewidth\":0,\"ticks\":\"\"}},\"type\":\"scatter\"}],\"scatter3d\":[{\"line\":{\"colorbar\":{\"outlinewidth\":0,\"ticks\":\"\"}},\"marker\":{\"colorbar\":{\"outlinewidth\":0,\"ticks\":\"\"}},\"type\":\"scatter3d\"}],\"scattercarpet\":[{\"marker\":{\"colorbar\":{\"outlinewidth\":0,\"ticks\":\"\"}},\"type\":\"scattercarpet\"}],\"scattergeo\":[{\"marker\":{\"colorbar\":{\"outlinewidth\":0,\"ticks\":\"\"}},\"type\":\"scattergeo\"}],\"scattergl\":[{\"marker\":{\"colorbar\":{\"outlinewidth\":0,\"ticks\":\"\"}},\"type\":\"scattergl\"}],\"scattermapbox\":[{\"marker\":{\"colorbar\":{\"outlinewidth\":0,\"ticks\":\"\"}},\"type\":\"scattermapbox\"}],\"scatterpolar\":[{\"marker\":{\"colorbar\":{\"outlinewidth\":0,\"ticks\":\"\"}},\"type\":\"scatterpolar\"}],\"scatterpolargl\":[{\"marker\":{\"colorbar\":{\"outlinewidth\":0,\"ticks\":\"\"}},\"type\":\"scatterpolargl\"}],\"scatterternary\":[{\"marker\":{\"colorbar\":{\"outlinewidth\":0,\"ticks\":\"\"}},\"type\":\"scatterternary\"}],\"surface\":[{\"colorbar\":{\"outlinewidth\":0,\"ticks\":\"\"},\"colorscale\":[[0.0,\"#0d0887\"],[0.1111111111111111,\"#46039f\"],[0.2222222222222222,\"#7201a8\"],[0.3333333333333333,\"#9c179e\"],[0.4444444444444444,\"#bd3786\"],[0.5555555555555556,\"#d8576b\"],[0.6666666666666666,\"#ed7953\"],[0.7777777777777778,\"#fb9f3a\"],[0.8888888888888888,\"#fdca26\"],[1.0,\"#f0f921\"]],\"type\":\"surface\"}],\"table\":[{\"cells\":{\"fill\":{\"color\":\"#EBF0F8\"},\"line\":{\"color\":\"white\"}},\"header\":{\"fill\":{\"color\":\"#C8D4E3\"},\"line\":{\"color\":\"white\"}},\"type\":\"table\"}]},\"layout\":{\"annotationdefaults\":{\"arrowcolor\":\"#2a3f5f\",\"arrowhead\":0,\"arrowwidth\":1},\"autotypenumbers\":\"strict\",\"coloraxis\":{\"colorbar\":{\"outlinewidth\":0,\"ticks\":\"\"}},\"colorscale\":{\"diverging\":[[0,\"#8e0152\"],[0.1,\"#c51b7d\"],[0.2,\"#de77ae\"],[0.3,\"#f1b6da\"],[0.4,\"#fde0ef\"],[0.5,\"#f7f7f7\"],[0.6,\"#e6f5d0\"],[0.7,\"#b8e186\"],[0.8,\"#7fbc41\"],[0.9,\"#4d9221\"],[1,\"#276419\"]],\"sequential\":[[0.0,\"#0d0887\"],[0.1111111111111111,\"#46039f\"],[0.2222222222222222,\"#7201a8\"],[0.3333333333333333,\"#9c179e\"],[0.4444444444444444,\"#bd3786\"],[0.5555555555555556,\"#d8576b\"],[0.6666666666666666,\"#ed7953\"],[0.7777777777777778,\"#fb9f3a\"],[0.8888888888888888,\"#fdca26\"],[1.0,\"#f0f921\"]],\"sequentialminus\":[[0.0,\"#0d0887\"],[0.1111111111111111,\"#46039f\"],[0.2222222222222222,\"#7201a8\"],[0.3333333333333333,\"#9c179e\"],[0.4444444444444444,\"#bd3786\"],[0.5555555555555556,\"#d8576b\"],[0.6666666666666666,\"#ed7953\"],[0.7777777777777778,\"#fb9f3a\"],[0.8888888888888888,\"#fdca26\"],[1.0,\"#f0f921\"]]},\"colorway\":[\"#636efa\",\"#EF553B\",\"#00cc96\",\"#ab63fa\",\"#FFA15A\",\"#19d3f3\",\"#FF6692\",\"#B6E880\",\"#FF97FF\",\"#FECB52\"],\"font\":{\"color\":\"#2a3f5f\"},\"geo\":{\"bgcolor\":\"white\",\"lakecolor\":\"white\",\"landcolor\":\"#E5ECF6\",\"showlakes\":true,\"showland\":true,\"subunitcolor\":\"white\"},\"hoverlabel\":{\"align\":\"left\"},\"hovermode\":\"closest\",\"mapbox\":{\"style\":\"light\"},\"paper_bgcolor\":\"white\",\"plot_bgcolor\":\"#E5ECF6\",\"polar\":{\"angularaxis\":{\"gridcolor\":\"white\",\"linecolor\":\"white\",\"ticks\":\"\"},\"bgcolor\":\"#E5ECF6\",\"radialaxis\":{\"gridcolor\":\"white\",\"linecolor\":\"white\",\"ticks\":\"\"}},\"scene\":{\"xaxis\":{\"backgroundcolor\":\"#E5ECF6\",\"gridcolor\":\"white\",\"gridwidth\":2,\"linecolor\":\"white\",\"showbackground\":true,\"ticks\":\"\",\"zerolinecolor\":\"white\"},\"yaxis\":{\"backgroundcolor\":\"#E5ECF6\",\"gridcolor\":\"white\",\"gridwidth\":2,\"linecolor\":\"white\",\"showbackground\":true,\"ticks\":\"\",\"zerolinecolor\":\"white\"},\"zaxis\":{\"backgroundcolor\":\"#E5ECF6\",\"gridcolor\":\"white\",\"gridwidth\":2,\"linecolor\":\"white\",\"showbackground\":true,\"ticks\":\"\",\"zerolinecolor\":\"white\"}},\"shapedefaults\":{\"line\":{\"color\":\"#2a3f5f\"}},\"ternary\":{\"aaxis\":{\"gridcolor\":\"white\",\"linecolor\":\"white\",\"ticks\":\"\"},\"baxis\":{\"gridcolor\":\"white\",\"linecolor\":\"white\",\"ticks\":\"\"},\"bgcolor\":\"#E5ECF6\",\"caxis\":{\"gridcolor\":\"white\",\"linecolor\":\"white\",\"ticks\":\"\"}},\"title\":{\"x\":0.05},\"xaxis\":{\"automargin\":true,\"gridcolor\":\"white\",\"linecolor\":\"white\",\"ticks\":\"\",\"title\":{\"standoff\":15},\"zerolinecolor\":\"white\",\"zerolinewidth\":2},\"yaxis\":{\"automargin\":true,\"gridcolor\":\"white\",\"linecolor\":\"white\",\"ticks\":\"\",\"title\":{\"standoff\":15},\"zerolinecolor\":\"white\",\"zerolinewidth\":2}}},\"annotations\":[{\"font\":{\"color\":\"black\",\"size\":13},\"showarrow\":false,\"text\":\"3.5t\",\"x\":2000,\"xanchor\":\"center\",\"y\":3475225,\"yanchor\":\"bottom\"},{\"font\":{\"color\":\"black\",\"size\":13},\"showarrow\":false,\"text\":\"3.6t\",\"x\":2001,\"xanchor\":\"center\",\"y\":3583554,\"yanchor\":\"bottom\"},{\"font\":{\"color\":\"black\",\"size\":13},\"showarrow\":false,\"text\":\"3.7t\",\"x\":2002,\"xanchor\":\"center\",\"y\":3721843,\"yanchor\":\"bottom\"},{\"font\":{\"color\":\"black\",\"size\":13},\"showarrow\":false,\"text\":\"3.9t\",\"x\":2003,\"xanchor\":\"center\",\"y\":3943039,\"yanchor\":\"bottom\"},{\"font\":{\"color\":\"black\",\"size\":13},\"showarrow\":false,\"text\":\"4.1t\",\"x\":2004,\"xanchor\":\"center\",\"y\":4130589,\"yanchor\":\"bottom\"},{\"font\":{\"color\":\"black\",\"size\":13},\"showarrow\":false,\"text\":\"4.2t\",\"x\":2005,\"xanchor\":\"center\",\"y\":4197916,\"yanchor\":\"bottom\"},{\"font\":{\"color\":\"black\",\"size\":13},\"showarrow\":false,\"text\":\"4.3t\",\"x\":2006,\"xanchor\":\"center\",\"y\":4269435,\"yanchor\":\"bottom\"},{\"font\":{\"color\":\"black\",\"size\":13},\"showarrow\":false,\"text\":\"4.3t\",\"x\":2007,\"xanchor\":\"center\",\"y\":4300509,\"yanchor\":\"bottom\"},{\"font\":{\"color\":\"black\",\"size\":13},\"showarrow\":false,\"text\":\"4.3t\",\"x\":2008,\"xanchor\":\"center\",\"y\":4275171,\"yanchor\":\"bottom\"},{\"font\":{\"color\":\"black\",\"size\":13},\"showarrow\":false,\"text\":\"4.2t\",\"x\":2009,\"xanchor\":\"center\",\"y\":4198594,\"yanchor\":\"bottom\"},{\"font\":{\"color\":\"black\",\"size\":13},\"showarrow\":false,\"text\":\"4.2t\",\"x\":2010,\"xanchor\":\"center\",\"y\":4189955,\"yanchor\":\"bottom\"},{\"font\":{\"color\":\"black\",\"size\":13},\"showarrow\":false,\"text\":\"4.0t\",\"x\":2011,\"xanchor\":\"center\",\"y\":4044112,\"yanchor\":\"bottom\"},{\"font\":{\"color\":\"black\",\"size\":13},\"showarrow\":false,\"text\":\"3.7t\",\"x\":2012,\"xanchor\":\"center\",\"y\":3735949,\"yanchor\":\"bottom\"},{\"font\":{\"color\":\"black\",\"size\":13},\"showarrow\":false,\"text\":\"3.6t\",\"x\":2013,\"xanchor\":\"center\",\"y\":3588637,\"yanchor\":\"bottom\"},{\"font\":{\"color\":\"black\",\"size\":13},\"showarrow\":false,\"text\":\"3.6t\",\"x\":2014,\"xanchor\":\"center\",\"y\":3641364,\"yanchor\":\"bottom\"},{\"font\":{\"color\":\"black\",\"size\":13},\"showarrow\":false,\"text\":\"3.7t\",\"x\":2015,\"xanchor\":\"center\",\"y\":3706243,\"yanchor\":\"bottom\"},{\"font\":{\"color\":\"black\",\"size\":13},\"showarrow\":false,\"text\":\"3.7t\",\"x\":2016,\"xanchor\":\"center\",\"y\":3732133,\"yanchor\":\"bottom\"},{\"font\":{\"color\":\"black\",\"size\":13},\"showarrow\":false,\"text\":\"3.8t\",\"x\":2017,\"xanchor\":\"center\",\"y\":3844296,\"yanchor\":\"bottom\"},{\"font\":{\"color\":\"black\",\"size\":13},\"showarrow\":false,\"text\":\"4.0t\",\"x\":2018,\"xanchor\":\"center\",\"y\":3978033,\"yanchor\":\"bottom\"},{\"font\":{\"color\":\"black\",\"size\":13},\"showarrow\":false,\"text\":\"4.0t\",\"x\":2019,\"xanchor\":\"center\",\"y\":4046613,\"yanchor\":\"bottom\"},{\"font\":{\"color\":\"black\",\"size\":13},\"showarrow\":false,\"text\":\"4.0t\",\"x\":2020,\"xanchor\":\"center\",\"y\":3973194,\"yanchor\":\"bottom\"},{\"font\":{\"color\":\"black\",\"size\":13},\"showarrow\":false,\"text\":\"4.0t\",\"x\":2021,\"xanchor\":\"center\",\"y\":4027027,\"yanchor\":\"bottom\"}],\"barmode\":\"stack\",\"legend\":{\"orientation\":\"h\",\"yanchor\":\"bottom\",\"y\":-0.4,\"xanchor\":\"center\",\"x\":0.5},\"yaxis\":{\"title\":{\"text\":\"Toneladas\"},\"tickformat\":\".0f\",\"ticktext\":[\"1T\",\"2T\",\"3T\",\"4T\",\"5T\"],\"tickvals\":[1000000.0,2000000.0,3000000.0,4000000.0,5000000.0]},\"yaxis2\":{\"tickformat\":\".0f\",\"title\":{\"text\":\"%\"},\"overlaying\":\"y\",\"side\":\"right\",\"range\":[0,100]},\"xaxis\":{\"title\":{\"text\":\"A\\u00f1os\",\"font\":{\"size\":14}},\"showgrid\":false,\"range\":[1999.5,2021.5]},\"title\":{\"font\":{\"size\":16},\"text\":\"<em><b>Evoluci\\u00f3n Reciclaje Catalu\\u00f1a</b></em>\",\"x\":0.5,\"y\":0.88},\"margin\":{\"t\":100}},                        {\"responsive\": true}                    ).then(function(){\n",
       "                            \n",
       "var gd = document.getElementById('d2deff85-81e9-431f-9c5c-16fa3f57c3cd');\n",
       "var x = new MutationObserver(function (mutations, observer) {{\n",
       "        var display = window.getComputedStyle(gd).display;\n",
       "        if (!display || display === 'none') {{\n",
       "            console.log([gd, 'removed!']);\n",
       "            Plotly.purge(gd);\n",
       "            observer.disconnect();\n",
       "        }}\n",
       "}});\n",
       "\n",
       "// Listen for the removal of the full notebook cells\n",
       "var notebookContainer = gd.closest('#notebook-container');\n",
       "if (notebookContainer) {{\n",
       "    x.observe(notebookContainer, {childList: true});\n",
       "}}\n",
       "\n",
       "// Listen for the clearing of the current output cell\n",
       "var outputEl = gd.closest('.output');\n",
       "if (outputEl) {{\n",
       "    x.observe(outputEl, {childList: true});\n",
       "}}\n",
       "\n",
       "                        })                };                });            </script>        </div>"
      ]
     },
     "metadata": {},
     "output_type": "display_data"
    }
   ],
   "source": [
    "# GRÁFICA BARRAS+LINEAL CON LOS DATOS DE CATALUÑA + PREDICCIONES.\n",
    "import plotly.graph_objects as go\n",
    "import pandas as pd\n",
    "\n",
    "\n",
    "# Filtrar los datos para el rango de años 2000-2021\n",
    "cat_filtered = cat[(cat['Any'] >= 2000) & (cat['Any'] <= 2021)]\n",
    "\n",
    "# Crear la figura\n",
    "fig = go.Figure()\n",
    "\n",
    "# Agregar la columna \"Total Recollida Selectiva\" al gráfico\n",
    "fig.add_trace(go.Bar(\n",
    "    x=cat_filtered['Any'],\n",
    "    y=cat_filtered['Total Recollida Selectiva'],\n",
    "    name='Total Recollida Selectiva',\n",
    "    marker_color='lightgreen',\n",
    "    text=[f\"{val/1000000:.1f}t\" for val in cat_filtered['Total Recollida Selectiva']],\n",
    "    textposition='auto'\n",
    "))\n",
    "\n",
    "# Agregar la columna \"Total Fracció Resta\" al gráfico\n",
    "fig.add_trace(go.Bar(\n",
    "    x=cat_filtered['Any'],\n",
    "    y=cat_filtered['Total Fracció Resta'],\n",
    "    name='Total Fracció Resta',\n",
    "    marker_color='tan',\n",
    "    text=[f\"{val/1000000:.1f}t\" for val in cat_filtered['Total Fracció Resta']],\n",
    "    textposition='auto'\n",
    "))\n",
    "\n",
    "# Obtener los totales generados\n",
    "total_generado = cat_filtered['Generació Residus CAT Totals']\n",
    "\n",
    "# Configurar las anotaciones\n",
    "annotations = [\n",
    "    go.layout.Annotation(\n",
    "        x=año,\n",
    "        y=total,\n",
    "        text=f\"{total / 1000000:.1f}t\",\n",
    "        showarrow=False,\n",
    "        font=dict(color='black', size=13),\n",
    "        xanchor='center',\n",
    "        yanchor='bottom'\n",
    "    )\n",
    "    for año, total in zip(cat_filtered['Any'], total_generado)\n",
    "]\n",
    "\n",
    "# Agregar las anotaciones al gráfico\n",
    "fig.update_layout(annotations=annotations)\n",
    "\n",
    "# porcentaje de Total Fracció Resta\n",
    "porcentaje_fraccio = cat['FR / RC % Total']\n",
    "\n",
    "# porcentaje de Total Recollida Selectiva s\n",
    "porcentaje_selectiva = cat['RS / RC % Total']\n",
    "\n",
    "# Agregar la línea de porcentaje de Total Fracció Resta con marcadores cuadrados\n",
    "fig.add_trace(go.Scatter(\n",
    "    x=cat_filtered['Any'],\n",
    "    y=porcentaje_fraccio,\n",
    "    name='% Total Fracció Resta',\n",
    "    mode='lines+markers+text',\n",
    "    line=dict(color='rgb(139, 69, 19)', width=3),\n",
    "    marker=dict(symbol='square', size=8, color='rgb(139, 69, 19)'),\n",
    "    text=[f'{y:.0f}%' for y in porcentaje_fraccio],\n",
    "    textposition='top center',\n",
    "    hovertemplate='%{text}',\n",
    "    textfont=dict(color='rgb(139, 69, 19)'),\n",
    "    yaxis='y2'\n",
    "))\n",
    "\n",
    "# Agregar la línea de porcentaje de Total Recollida Selectiva con marcadores cuadrados\n",
    "fig.add_trace(go.Scatter(\n",
    "    x=cat_filtered['Any'],\n",
    "    y=porcentaje_selectiva,\n",
    "    name='% Total Recollida Selectiva',\n",
    "    mode='lines+markers+text',\n",
    "    line=dict(color='rgb(50, 205, 50)', width=3),\n",
    "    marker=dict(symbol='square', size=8, color='rgb(50, 205, 50)'),\n",
    "    text=[f'{y:.0f}%' for y in porcentaje_selectiva],\n",
    "    textposition='top center',\n",
    "    hovertemplate='%{text}',\n",
    "    textfont=dict(color='green'),\n",
    "    yaxis='y2'\n",
    "))\n",
    "\n",
    "# Configurar la posición de las columnas\n",
    "fig.update_layout(barmode='stack')\n",
    "\n",
    "# Configurar la leyenda abajo de la gráfica, centrada\n",
    "fig.update_layout(\n",
    "    legend=dict(\n",
    "        orientation='h',\n",
    "        yanchor='bottom',\n",
    "        y=-0.40,\n",
    "        xanchor='center',\n",
    "        x=0.5\n",
    "    )\n",
    ")\n",
    "\n",
    "# Configurar el eje Y en porcentaje\n",
    "fig.update_layout(\n",
    "    yaxis=dict(\n",
    "        title='Toneladas',\n",
    "        tickformat='.0f',\n",
    "        ticktext=['1T', '2T', '3T', '4T', '5T'],\n",
    "        tickvals=[1e6, 2e6, 3e6, 4e6, 5e6]\n",
    "    ),\n",
    "    yaxis2=dict(\n",
    "        tickformat='.0f',\n",
    "        title='%',\n",
    "        overlaying='y',\n",
    "        side='right',\n",
    "        range=[0, 100],        \n",
    "    ),\n",
    "    xaxis=dict(title='Años', showgrid=False, title_font=dict(size=14)),\n",
    ")\n",
    "\n",
    "# Configurar el eje X con los años del 2000 al 2021\n",
    "fig.update_xaxes(range=[1999.5, 2021.5])  # Agregar un margen adicional a los extremos del eje X\n",
    "\n",
    "# Centrar el título y acercarlo a la gráfica\n",
    "fig.update_layout(\n",
    "    title=dict(text=\"<em><b>Evolución Reciclaje Cataluña</b></em>\", x=0.5, y=0.88),\n",
    "    title_font=dict(size=16),\n",
    "    margin=dict(t=100)  # Aumentar el margen superior para acercar el título a la gráfica\n",
    ")\n",
    "\n",
    "# Mostrar la gráfica\n",
    "fig.show()\n",
    "\n",
    "\n"
   ]
  },
  {
   "cell_type": "code",
   "execution_count": 21,
   "id": "6dd147ec",
   "metadata": {},
   "outputs": [
    {
     "data": {
      "application/vnd.plotly.v1+json": {
       "config": {
        "plotlyServerURL": "https://plot.ly"
       },
       "data": [
        {
         "marker": {
          "color": "lightgreen"
         },
         "name": "Total Recogida Selectiva",
         "text": [
          "6.5t",
          "6.4t",
          "6.3t",
          "7.3t",
          "8.0t",
          "7.8t",
          "8.5t",
          "8.9t"
         ],
         "textposition": "auto",
         "type": "bar",
         "x": [
          2012,
          2014,
          2015,
          2016,
          2017,
          2018,
          2019,
          2020
         ],
         "y": [
          6522002,
          6419769,
          6343909,
          7294915,
          7950973,
          7797424,
          8451121,
          8919822
         ]
        },
        {
         "marker": {
          "color": "tan"
         },
         "name": "Total Resto",
         "text": [
          "15.4t",
          "14.4t",
          "14.8t",
          "14.2t",
          "14.1t",
          "14.5t",
          "13.8t",
          "13.1t"
         ],
         "textposition": "auto",
         "type": "bar",
         "x": [
          2012,
          2014,
          2015,
          2016,
          2017,
          2018,
          2019,
          2020
         ],
         "y": [
          15374333,
          14416639,
          14813919,
          14246925,
          14066891,
          14467399,
          13810568,
          13069494
         ]
        },
        {
         "hovertemplate": "%{text}",
         "line": {
          "color": "rgb(139, 69, 19)",
          "width": 3
         },
         "marker": {
          "color": "rgb(139, 69, 19)",
          "size": 8,
          "symbol": "square"
         },
         "mode": "lines+markers+text",
         "name": "% Total Resto",
         "text": [
          "70.21%",
          "69.19%",
          "70.02%",
          "66.14%",
          "63.89%",
          "64.98%",
          "62.04%",
          "59.44%"
         ],
         "textfont": {
          "color": "rgb(139, 69, 19)"
         },
         "textposition": "bottom center",
         "type": "scatter",
         "x": [
          2012,
          2014,
          2015,
          2016,
          2017,
          2018,
          2019,
          2020
         ],
         "y": [
          70.21418424590235,
          69.18965591382161,
          70.01625923115829,
          66.13606051590483,
          63.88853614501389,
          64.97872608379926,
          62.03737452098201,
          59.43565502446734
         ],
         "yaxis": "y2"
        },
        {
         "hovertemplate": "%{text}",
         "line": {
          "color": "rgb(50, 205, 50)",
          "width": 3
         },
         "marker": {
          "color": "rgb(50, 205, 50)",
          "size": 8,
          "symbol": "square"
         },
         "mode": "lines+markers+text",
         "name": "% Total Selectivo",
         "text": [
          "29.79%",
          "30.81%",
          "29.98%",
          "33.86%",
          "36.11%",
          "35.02%",
          "37.96%",
          "40.56%"
         ],
         "textfont": {
          "color": "green"
         },
         "textposition": "top center",
         "type": "scatter",
         "x": [
          2012,
          2014,
          2015,
          2016,
          2017,
          2018,
          2019,
          2020
         ],
         "y": [
          29.785815754097662,
          30.810344086178386,
          29.983745495225005,
          33.86393484196638,
          36.11146385498611,
          35.02126942481109,
          37.96262098699604,
          40.56434497553266
         ],
         "yaxis": "y2"
        }
       ],
       "layout": {
        "annotations": [
         {
          "font": {
           "color": "black",
           "size": 13
          },
          "showarrow": false,
          "text": "21.9t",
          "x": 2012,
          "xanchor": "center",
          "y": 21896335,
          "yanchor": "bottom"
         },
         {
          "font": {
           "color": "black",
           "size": 13
          },
          "showarrow": false,
          "text": "20.8t",
          "x": 2014,
          "xanchor": "center",
          "y": 20836408,
          "yanchor": "bottom"
         },
         {
          "font": {
           "color": "black",
           "size": 13
          },
          "showarrow": false,
          "text": "21.2t",
          "x": 2015,
          "xanchor": "center",
          "y": 21157827,
          "yanchor": "bottom"
         },
         {
          "font": {
           "color": "black",
           "size": 13
          },
          "showarrow": false,
          "text": "21.5t",
          "x": 2016,
          "xanchor": "center",
          "y": 21541841,
          "yanchor": "bottom"
         },
         {
          "font": {
           "color": "black",
           "size": 13
          },
          "showarrow": false,
          "text": "22.0t",
          "x": 2017,
          "xanchor": "center",
          "y": 22017864,
          "yanchor": "bottom"
         },
         {
          "font": {
           "color": "black",
           "size": 13
          },
          "showarrow": false,
          "text": "22.3t",
          "x": 2018,
          "xanchor": "center",
          "y": 22264824,
          "yanchor": "bottom"
         },
         {
          "font": {
           "color": "black",
           "size": 13
          },
          "showarrow": false,
          "text": "22.3t",
          "x": 2019,
          "xanchor": "center",
          "y": 22261690,
          "yanchor": "bottom"
         },
         {
          "font": {
           "color": "black",
           "size": 13
          },
          "showarrow": false,
          "text": "22.0t",
          "x": 2020,
          "xanchor": "center",
          "y": 21989316,
          "yanchor": "bottom"
         }
        ],
        "autosize": true,
        "barmode": "stack",
        "legend": {
         "orientation": "h",
         "x": 0.5,
         "xanchor": "center",
         "y": -0.4,
         "yanchor": "bottom"
        },
        "template": {
         "data": {
          "bar": [
           {
            "error_x": {
             "color": "#2a3f5f"
            },
            "error_y": {
             "color": "#2a3f5f"
            },
            "marker": {
             "line": {
              "color": "#E5ECF6",
              "width": 0.5
             },
             "pattern": {
              "fillmode": "overlay",
              "size": 10,
              "solidity": 0.2
             }
            },
            "type": "bar"
           }
          ],
          "barpolar": [
           {
            "marker": {
             "line": {
              "color": "#E5ECF6",
              "width": 0.5
             },
             "pattern": {
              "fillmode": "overlay",
              "size": 10,
              "solidity": 0.2
             }
            },
            "type": "barpolar"
           }
          ],
          "carpet": [
           {
            "aaxis": {
             "endlinecolor": "#2a3f5f",
             "gridcolor": "white",
             "linecolor": "white",
             "minorgridcolor": "white",
             "startlinecolor": "#2a3f5f"
            },
            "baxis": {
             "endlinecolor": "#2a3f5f",
             "gridcolor": "white",
             "linecolor": "white",
             "minorgridcolor": "white",
             "startlinecolor": "#2a3f5f"
            },
            "type": "carpet"
           }
          ],
          "choropleth": [
           {
            "colorbar": {
             "outlinewidth": 0,
             "ticks": ""
            },
            "type": "choropleth"
           }
          ],
          "contour": [
           {
            "colorbar": {
             "outlinewidth": 0,
             "ticks": ""
            },
            "colorscale": [
             [
              0,
              "#0d0887"
             ],
             [
              0.1111111111111111,
              "#46039f"
             ],
             [
              0.2222222222222222,
              "#7201a8"
             ],
             [
              0.3333333333333333,
              "#9c179e"
             ],
             [
              0.4444444444444444,
              "#bd3786"
             ],
             [
              0.5555555555555556,
              "#d8576b"
             ],
             [
              0.6666666666666666,
              "#ed7953"
             ],
             [
              0.7777777777777778,
              "#fb9f3a"
             ],
             [
              0.8888888888888888,
              "#fdca26"
             ],
             [
              1,
              "#f0f921"
             ]
            ],
            "type": "contour"
           }
          ],
          "contourcarpet": [
           {
            "colorbar": {
             "outlinewidth": 0,
             "ticks": ""
            },
            "type": "contourcarpet"
           }
          ],
          "heatmap": [
           {
            "colorbar": {
             "outlinewidth": 0,
             "ticks": ""
            },
            "colorscale": [
             [
              0,
              "#0d0887"
             ],
             [
              0.1111111111111111,
              "#46039f"
             ],
             [
              0.2222222222222222,
              "#7201a8"
             ],
             [
              0.3333333333333333,
              "#9c179e"
             ],
             [
              0.4444444444444444,
              "#bd3786"
             ],
             [
              0.5555555555555556,
              "#d8576b"
             ],
             [
              0.6666666666666666,
              "#ed7953"
             ],
             [
              0.7777777777777778,
              "#fb9f3a"
             ],
             [
              0.8888888888888888,
              "#fdca26"
             ],
             [
              1,
              "#f0f921"
             ]
            ],
            "type": "heatmap"
           }
          ],
          "heatmapgl": [
           {
            "colorbar": {
             "outlinewidth": 0,
             "ticks": ""
            },
            "colorscale": [
             [
              0,
              "#0d0887"
             ],
             [
              0.1111111111111111,
              "#46039f"
             ],
             [
              0.2222222222222222,
              "#7201a8"
             ],
             [
              0.3333333333333333,
              "#9c179e"
             ],
             [
              0.4444444444444444,
              "#bd3786"
             ],
             [
              0.5555555555555556,
              "#d8576b"
             ],
             [
              0.6666666666666666,
              "#ed7953"
             ],
             [
              0.7777777777777778,
              "#fb9f3a"
             ],
             [
              0.8888888888888888,
              "#fdca26"
             ],
             [
              1,
              "#f0f921"
             ]
            ],
            "type": "heatmapgl"
           }
          ],
          "histogram": [
           {
            "marker": {
             "pattern": {
              "fillmode": "overlay",
              "size": 10,
              "solidity": 0.2
             }
            },
            "type": "histogram"
           }
          ],
          "histogram2d": [
           {
            "colorbar": {
             "outlinewidth": 0,
             "ticks": ""
            },
            "colorscale": [
             [
              0,
              "#0d0887"
             ],
             [
              0.1111111111111111,
              "#46039f"
             ],
             [
              0.2222222222222222,
              "#7201a8"
             ],
             [
              0.3333333333333333,
              "#9c179e"
             ],
             [
              0.4444444444444444,
              "#bd3786"
             ],
             [
              0.5555555555555556,
              "#d8576b"
             ],
             [
              0.6666666666666666,
              "#ed7953"
             ],
             [
              0.7777777777777778,
              "#fb9f3a"
             ],
             [
              0.8888888888888888,
              "#fdca26"
             ],
             [
              1,
              "#f0f921"
             ]
            ],
            "type": "histogram2d"
           }
          ],
          "histogram2dcontour": [
           {
            "colorbar": {
             "outlinewidth": 0,
             "ticks": ""
            },
            "colorscale": [
             [
              0,
              "#0d0887"
             ],
             [
              0.1111111111111111,
              "#46039f"
             ],
             [
              0.2222222222222222,
              "#7201a8"
             ],
             [
              0.3333333333333333,
              "#9c179e"
             ],
             [
              0.4444444444444444,
              "#bd3786"
             ],
             [
              0.5555555555555556,
              "#d8576b"
             ],
             [
              0.6666666666666666,
              "#ed7953"
             ],
             [
              0.7777777777777778,
              "#fb9f3a"
             ],
             [
              0.8888888888888888,
              "#fdca26"
             ],
             [
              1,
              "#f0f921"
             ]
            ],
            "type": "histogram2dcontour"
           }
          ],
          "mesh3d": [
           {
            "colorbar": {
             "outlinewidth": 0,
             "ticks": ""
            },
            "type": "mesh3d"
           }
          ],
          "parcoords": [
           {
            "line": {
             "colorbar": {
              "outlinewidth": 0,
              "ticks": ""
             }
            },
            "type": "parcoords"
           }
          ],
          "pie": [
           {
            "automargin": true,
            "type": "pie"
           }
          ],
          "scatter": [
           {
            "marker": {
             "colorbar": {
              "outlinewidth": 0,
              "ticks": ""
             }
            },
            "type": "scatter"
           }
          ],
          "scatter3d": [
           {
            "line": {
             "colorbar": {
              "outlinewidth": 0,
              "ticks": ""
             }
            },
            "marker": {
             "colorbar": {
              "outlinewidth": 0,
              "ticks": ""
             }
            },
            "type": "scatter3d"
           }
          ],
          "scattercarpet": [
           {
            "marker": {
             "colorbar": {
              "outlinewidth": 0,
              "ticks": ""
             }
            },
            "type": "scattercarpet"
           }
          ],
          "scattergeo": [
           {
            "marker": {
             "colorbar": {
              "outlinewidth": 0,
              "ticks": ""
             }
            },
            "type": "scattergeo"
           }
          ],
          "scattergl": [
           {
            "marker": {
             "colorbar": {
              "outlinewidth": 0,
              "ticks": ""
             }
            },
            "type": "scattergl"
           }
          ],
          "scattermapbox": [
           {
            "marker": {
             "colorbar": {
              "outlinewidth": 0,
              "ticks": ""
             }
            },
            "type": "scattermapbox"
           }
          ],
          "scatterpolar": [
           {
            "marker": {
             "colorbar": {
              "outlinewidth": 0,
              "ticks": ""
             }
            },
            "type": "scatterpolar"
           }
          ],
          "scatterpolargl": [
           {
            "marker": {
             "colorbar": {
              "outlinewidth": 0,
              "ticks": ""
             }
            },
            "type": "scatterpolargl"
           }
          ],
          "scatterternary": [
           {
            "marker": {
             "colorbar": {
              "outlinewidth": 0,
              "ticks": ""
             }
            },
            "type": "scatterternary"
           }
          ],
          "surface": [
           {
            "colorbar": {
             "outlinewidth": 0,
             "ticks": ""
            },
            "colorscale": [
             [
              0,
              "#0d0887"
             ],
             [
              0.1111111111111111,
              "#46039f"
             ],
             [
              0.2222222222222222,
              "#7201a8"
             ],
             [
              0.3333333333333333,
              "#9c179e"
             ],
             [
              0.4444444444444444,
              "#bd3786"
             ],
             [
              0.5555555555555556,
              "#d8576b"
             ],
             [
              0.6666666666666666,
              "#ed7953"
             ],
             [
              0.7777777777777778,
              "#fb9f3a"
             ],
             [
              0.8888888888888888,
              "#fdca26"
             ],
             [
              1,
              "#f0f921"
             ]
            ],
            "type": "surface"
           }
          ],
          "table": [
           {
            "cells": {
             "fill": {
              "color": "#EBF0F8"
             },
             "line": {
              "color": "white"
             }
            },
            "header": {
             "fill": {
              "color": "#C8D4E3"
             },
             "line": {
              "color": "white"
             }
            },
            "type": "table"
           }
          ]
         },
         "layout": {
          "annotationdefaults": {
           "arrowcolor": "#2a3f5f",
           "arrowhead": 0,
           "arrowwidth": 1
          },
          "autotypenumbers": "strict",
          "coloraxis": {
           "colorbar": {
            "outlinewidth": 0,
            "ticks": ""
           }
          },
          "colorscale": {
           "diverging": [
            [
             0,
             "#8e0152"
            ],
            [
             0.1,
             "#c51b7d"
            ],
            [
             0.2,
             "#de77ae"
            ],
            [
             0.3,
             "#f1b6da"
            ],
            [
             0.4,
             "#fde0ef"
            ],
            [
             0.5,
             "#f7f7f7"
            ],
            [
             0.6,
             "#e6f5d0"
            ],
            [
             0.7,
             "#b8e186"
            ],
            [
             0.8,
             "#7fbc41"
            ],
            [
             0.9,
             "#4d9221"
            ],
            [
             1,
             "#276419"
            ]
           ],
           "sequential": [
            [
             0,
             "#0d0887"
            ],
            [
             0.1111111111111111,
             "#46039f"
            ],
            [
             0.2222222222222222,
             "#7201a8"
            ],
            [
             0.3333333333333333,
             "#9c179e"
            ],
            [
             0.4444444444444444,
             "#bd3786"
            ],
            [
             0.5555555555555556,
             "#d8576b"
            ],
            [
             0.6666666666666666,
             "#ed7953"
            ],
            [
             0.7777777777777778,
             "#fb9f3a"
            ],
            [
             0.8888888888888888,
             "#fdca26"
            ],
            [
             1,
             "#f0f921"
            ]
           ],
           "sequentialminus": [
            [
             0,
             "#0d0887"
            ],
            [
             0.1111111111111111,
             "#46039f"
            ],
            [
             0.2222222222222222,
             "#7201a8"
            ],
            [
             0.3333333333333333,
             "#9c179e"
            ],
            [
             0.4444444444444444,
             "#bd3786"
            ],
            [
             0.5555555555555556,
             "#d8576b"
            ],
            [
             0.6666666666666666,
             "#ed7953"
            ],
            [
             0.7777777777777778,
             "#fb9f3a"
            ],
            [
             0.8888888888888888,
             "#fdca26"
            ],
            [
             1,
             "#f0f921"
            ]
           ]
          },
          "colorway": [
           "#636efa",
           "#EF553B",
           "#00cc96",
           "#ab63fa",
           "#FFA15A",
           "#19d3f3",
           "#FF6692",
           "#B6E880",
           "#FF97FF",
           "#FECB52"
          ],
          "font": {
           "color": "#2a3f5f"
          },
          "geo": {
           "bgcolor": "white",
           "lakecolor": "white",
           "landcolor": "#E5ECF6",
           "showlakes": true,
           "showland": true,
           "subunitcolor": "white"
          },
          "hoverlabel": {
           "align": "left"
          },
          "hovermode": "closest",
          "mapbox": {
           "style": "light"
          },
          "paper_bgcolor": "white",
          "plot_bgcolor": "#E5ECF6",
          "polar": {
           "angularaxis": {
            "gridcolor": "white",
            "linecolor": "white",
            "ticks": ""
           },
           "bgcolor": "#E5ECF6",
           "radialaxis": {
            "gridcolor": "white",
            "linecolor": "white",
            "ticks": ""
           }
          },
          "scene": {
           "xaxis": {
            "backgroundcolor": "#E5ECF6",
            "gridcolor": "white",
            "gridwidth": 2,
            "linecolor": "white",
            "showbackground": true,
            "ticks": "",
            "zerolinecolor": "white"
           },
           "yaxis": {
            "backgroundcolor": "#E5ECF6",
            "gridcolor": "white",
            "gridwidth": 2,
            "linecolor": "white",
            "showbackground": true,
            "ticks": "",
            "zerolinecolor": "white"
           },
           "zaxis": {
            "backgroundcolor": "#E5ECF6",
            "gridcolor": "white",
            "gridwidth": 2,
            "linecolor": "white",
            "showbackground": true,
            "ticks": "",
            "zerolinecolor": "white"
           }
          },
          "shapedefaults": {
           "line": {
            "color": "#2a3f5f"
           }
          },
          "ternary": {
           "aaxis": {
            "gridcolor": "white",
            "linecolor": "white",
            "ticks": ""
           },
           "baxis": {
            "gridcolor": "white",
            "linecolor": "white",
            "ticks": ""
           },
           "bgcolor": "#E5ECF6",
           "caxis": {
            "gridcolor": "white",
            "linecolor": "white",
            "ticks": ""
           }
          },
          "title": {
           "x": 0.05
          },
          "xaxis": {
           "automargin": true,
           "gridcolor": "white",
           "linecolor": "white",
           "ticks": "",
           "title": {
            "standoff": 15
           },
           "zerolinecolor": "white",
           "zerolinewidth": 2
          },
          "yaxis": {
           "automargin": true,
           "gridcolor": "white",
           "linecolor": "white",
           "ticks": "",
           "title": {
            "standoff": 15
           },
           "zerolinecolor": "white",
           "zerolinewidth": 2
          }
         }
        },
        "title": {
         "font": {
          "size": 16
         },
         "text": "<em><b>Evolución Reciclaje España</b></em>",
         "x": 0.5,
         "y": 0.88
        },
        "xaxis": {
         "autorange": true,
         "range": [
          2011.4893490242812,
          2020.5106509757188
         ],
         "showgrid": false,
         "title": {
          "font": {
           "size": 14
          },
          "text": "Años"
         },
         "type": "linear"
        },
        "yaxis": {
         "autorange": true,
         "range": [
          0,
          25101107.31210191
         ],
         "tickformat": ".0f",
         "ticktext": [
          "5T",
          "10T",
          "15T",
          "20T"
         ],
         "tickvals": [
          5000000,
          10000000,
          15000000,
          20000000
         ],
         "title": {
          "text": "Toneladas"
         },
         "type": "linear"
        },
        "yaxis2": {
         "overlaying": "y",
         "range": [
          0,
          100
         ],
         "side": "right",
         "tickformat": ".0f",
         "title": {
          "text": "%"
         },
         "type": "linear"
        }
       }
      },
      "image/png": "[encoded data removed]",
      "text/html": [
       "<div>                            <div id=\"96c5c251-3386-4ca3-9c77-cc007ee7d19e\" class=\"plotly-graph-div\" style=\"height:525px; width:100%;\"></div>            <script type=\"text/javascript\">                require([\"plotly\"], function(Plotly) {                    window.PLOTLYENV=window.PLOTLYENV || {};                                    if (document.getElementById(\"96c5c251-3386-4ca3-9c77-cc007ee7d19e\")) {                    Plotly.newPlot(                        \"96c5c251-3386-4ca3-9c77-cc007ee7d19e\",                        [{\"marker\":{\"color\":\"lightgreen\"},\"name\":\"Total Recogida Selectiva\",\"text\":[\"6.5t\",\"6.4t\",\"6.3t\",\"7.3t\",\"8.0t\",\"7.8t\",\"8.5t\",\"8.9t\"],\"textposition\":\"auto\",\"x\":[2012,2014,2015,2016,2017,2018,2019,2020],\"y\":[6522002,6419769,6343909,7294915,7950973,7797424,8451121,8919822],\"type\":\"bar\"},{\"marker\":{\"color\":\"tan\"},\"name\":\"Total Resto\",\"text\":[\"15.4t\",\"14.4t\",\"14.8t\",\"14.2t\",\"14.1t\",\"14.5t\",\"13.8t\",\"13.1t\"],\"textposition\":\"auto\",\"x\":[2012,2014,2015,2016,2017,2018,2019,2020],\"y\":[15374333,14416639,14813919,14246925,14066891,14467399,13810568,13069494],\"type\":\"bar\"},{\"hovertemplate\":\"%{text}\",\"line\":{\"color\":\"rgb(139, 69, 19)\",\"width\":3},\"marker\":{\"color\":\"rgb(139, 69, 19)\",\"size\":8,\"symbol\":\"square\"},\"mode\":\"lines+markers+text\",\"name\":\"% Total Resto\",\"text\":[\"70.21%\",\"69.19%\",\"70.02%\",\"66.14%\",\"63.89%\",\"64.98%\",\"62.04%\",\"59.44%\"],\"textfont\":{\"color\":\"rgb(139, 69, 19)\"},\"textposition\":\"bottom center\",\"x\":[2012,2014,2015,2016,2017,2018,2019,2020],\"y\":[70.21418424590235,69.18965591382161,70.01625923115829,66.13606051590483,63.88853614501389,64.97872608379926,62.03737452098201,59.43565502446734],\"yaxis\":\"y2\",\"type\":\"scatter\"},{\"hovertemplate\":\"%{text}\",\"line\":{\"color\":\"rgb(50, 205, 50)\",\"width\":3},\"marker\":{\"color\":\"rgb(50, 205, 50)\",\"size\":8,\"symbol\":\"square\"},\"mode\":\"lines+markers+text\",\"name\":\"% Total Selectivo\",\"text\":[\"29.79%\",\"30.81%\",\"29.98%\",\"33.86%\",\"36.11%\",\"35.02%\",\"37.96%\",\"40.56%\"],\"textfont\":{\"color\":\"green\"},\"textposition\":\"top center\",\"x\":[2012,2014,2015,2016,2017,2018,2019,2020],\"y\":[29.785815754097662,30.810344086178386,29.983745495225005,33.86393484196638,36.11146385498611,35.02126942481109,37.96262098699604,40.56434497553266],\"yaxis\":\"y2\",\"type\":\"scatter\"}],                        {\"template\":{\"data\":{\"bar\":[{\"error_x\":{\"color\":\"#2a3f5f\"},\"error_y\":{\"color\":\"#2a3f5f\"},\"marker\":{\"line\":{\"color\":\"#E5ECF6\",\"width\":0.5},\"pattern\":{\"fillmode\":\"overlay\",\"size\":10,\"solidity\":0.2}},\"type\":\"bar\"}],\"barpolar\":[{\"marker\":{\"line\":{\"color\":\"#E5ECF6\",\"width\":0.5},\"pattern\":{\"fillmode\":\"overlay\",\"size\":10,\"solidity\":0.2}},\"type\":\"barpolar\"}],\"carpet\":[{\"aaxis\":{\"endlinecolor\":\"#2a3f5f\",\"gridcolor\":\"white\",\"linecolor\":\"white\",\"minorgridcolor\":\"white\",\"startlinecolor\":\"#2a3f5f\"},\"baxis\":{\"endlinecolor\":\"#2a3f5f\",\"gridcolor\":\"white\",\"linecolor\":\"white\",\"minorgridcolor\":\"white\",\"startlinecolor\":\"#2a3f5f\"},\"type\":\"carpet\"}],\"choropleth\":[{\"colorbar\":{\"outlinewidth\":0,\"ticks\":\"\"},\"type\":\"choropleth\"}],\"contour\":[{\"colorbar\":{\"outlinewidth\":0,\"ticks\":\"\"},\"colorscale\":[[0.0,\"#0d0887\"],[0.1111111111111111,\"#46039f\"],[0.2222222222222222,\"#7201a8\"],[0.3333333333333333,\"#9c179e\"],[0.4444444444444444,\"#bd3786\"],[0.5555555555555556,\"#d8576b\"],[0.6666666666666666,\"#ed7953\"],[0.7777777777777778,\"#fb9f3a\"],[0.8888888888888888,\"#fdca26\"],[1.0,\"#f0f921\"]],\"type\":\"contour\"}],\"contourcarpet\":[{\"colorbar\":{\"outlinewidth\":0,\"ticks\":\"\"},\"type\":\"contourcarpet\"}],\"heatmap\":[{\"colorbar\":{\"outlinewidth\":0,\"ticks\":\"\"},\"colorscale\":[[0.0,\"#0d0887\"],[0.1111111111111111,\"#46039f\"],[0.2222222222222222,\"#7201a8\"],[0.3333333333333333,\"#9c179e\"],[0.4444444444444444,\"#bd3786\"],[0.5555555555555556,\"#d8576b\"],[0.6666666666666666,\"#ed7953\"],[0.7777777777777778,\"#fb9f3a\"],[0.8888888888888888,\"#fdca26\"],[1.0,\"#f0f921\"]],\"type\":\"heatmap\"}],\"heatmapgl\":[{\"colorbar\":{\"outlinewidth\":0,\"ticks\":\"\"},\"colorscale\":[[0.0,\"#0d0887\"],[0.1111111111111111,\"#46039f\"],[0.2222222222222222,\"#7201a8\"],[0.3333333333333333,\"#9c179e\"],[0.4444444444444444,\"#bd3786\"],[0.5555555555555556,\"#d8576b\"],[0.6666666666666666,\"#ed7953\"],[0.7777777777777778,\"#fb9f3a\"],[0.8888888888888888,\"#fdca26\"],[1.0,\"#f0f921\"]],\"type\":\"heatmapgl\"}],\"histogram\":[{\"marker\":{\"pattern\":{\"fillmode\":\"overlay\",\"size\":10,\"solidity\":0.2}},\"type\":\"histogram\"}],\"histogram2d\":[{\"colorbar\":{\"outlinewidth\":0,\"ticks\":\"\"},\"colorscale\":[[0.0,\"#0d0887\"],[0.1111111111111111,\"#46039f\"],[0.2222222222222222,\"#7201a8\"],[0.3333333333333333,\"#9c179e\"],[0.4444444444444444,\"#bd3786\"],[0.5555555555555556,\"#d8576b\"],[0.6666666666666666,\"#ed7953\"],[0.7777777777777778,\"#fb9f3a\"],[0.8888888888888888,\"#fdca26\"],[1.0,\"#f0f921\"]],\"type\":\"histogram2d\"}],\"histogram2dcontour\":[{\"colorbar\":{\"outlinewidth\":0,\"ticks\":\"\"},\"colorscale\":[[0.0,\"#0d0887\"],[0.1111111111111111,\"#46039f\"],[0.2222222222222222,\"#7201a8\"],[0.3333333333333333,\"#9c179e\"],[0.4444444444444444,\"#bd3786\"],[0.5555555555555556,\"#d8576b\"],[0.6666666666666666,\"#ed7953\"],[0.7777777777777778,\"#fb9f3a\"],[0.8888888888888888,\"#fdca26\"],[1.0,\"#f0f921\"]],\"type\":\"histogram2dcontour\"}],\"mesh3d\":[{\"colorbar\":{\"outlinewidth\":0,\"ticks\":\"\"},\"type\":\"mesh3d\"}],\"parcoords\":[{\"line\":{\"colorbar\":{\"outlinewidth\":0,\"ticks\":\"\"}},\"type\":\"parcoords\"}],\"pie\":[{\"automargin\":true,\"type\":\"pie\"}],\"scatter\":[{\"marker\":{\"colorbar\":{\"outlinewidth\":0,\"ticks\":\"\"}},\"type\":\"scatter\"}],\"scatter3d\":[{\"line\":{\"colorbar\":{\"outlinewidth\":0,\"ticks\":\"\"}},\"marker\":{\"colorbar\":{\"outlinewidth\":0,\"ticks\":\"\"}},\"type\":\"scatter3d\"}],\"scattercarpet\":[{\"marker\":{\"colorbar\":{\"outlinewidth\":0,\"ticks\":\"\"}},\"type\":\"scattercarpet\"}],\"scattergeo\":[{\"marker\":{\"colorbar\":{\"outlinewidth\":0,\"ticks\":\"\"}},\"type\":\"scattergeo\"}],\"scattergl\":[{\"marker\":{\"colorbar\":{\"outlinewidth\":0,\"ticks\":\"\"}},\"type\":\"scattergl\"}],\"scattermapbox\":[{\"marker\":{\"colorbar\":{\"outlinewidth\":0,\"ticks\":\"\"}},\"type\":\"scattermapbox\"}],\"scatterpolar\":[{\"marker\":{\"colorbar\":{\"outlinewidth\":0,\"ticks\":\"\"}},\"type\":\"scatterpolar\"}],\"scatterpolargl\":[{\"marker\":{\"colorbar\":{\"outlinewidth\":0,\"ticks\":\"\"}},\"type\":\"scatterpolargl\"}],\"scatterternary\":[{\"marker\":{\"colorbar\":{\"outlinewidth\":0,\"ticks\":\"\"}},\"type\":\"scatterternary\"}],\"surface\":[{\"colorbar\":{\"outlinewidth\":0,\"ticks\":\"\"},\"colorscale\":[[0.0,\"#0d0887\"],[0.1111111111111111,\"#46039f\"],[0.2222222222222222,\"#7201a8\"],[0.3333333333333333,\"#9c179e\"],[0.4444444444444444,\"#bd3786\"],[0.5555555555555556,\"#d8576b\"],[0.6666666666666666,\"#ed7953\"],[0.7777777777777778,\"#fb9f3a\"],[0.8888888888888888,\"#fdca26\"],[1.0,\"#f0f921\"]],\"type\":\"surface\"}],\"table\":[{\"cells\":{\"fill\":{\"color\":\"#EBF0F8\"},\"line\":{\"color\":\"white\"}},\"header\":{\"fill\":{\"color\":\"#C8D4E3\"},\"line\":{\"color\":\"white\"}},\"type\":\"table\"}]},\"layout\":{\"annotationdefaults\":{\"arrowcolor\":\"#2a3f5f\",\"arrowhead\":0,\"arrowwidth\":1},\"autotypenumbers\":\"strict\",\"coloraxis\":{\"colorbar\":{\"outlinewidth\":0,\"ticks\":\"\"}},\"colorscale\":{\"diverging\":[[0,\"#8e0152\"],[0.1,\"#c51b7d\"],[0.2,\"#de77ae\"],[0.3,\"#f1b6da\"],[0.4,\"#fde0ef\"],[0.5,\"#f7f7f7\"],[0.6,\"#e6f5d0\"],[0.7,\"#b8e186\"],[0.8,\"#7fbc41\"],[0.9,\"#4d9221\"],[1,\"#276419\"]],\"sequential\":[[0.0,\"#0d0887\"],[0.1111111111111111,\"#46039f\"],[0.2222222222222222,\"#7201a8\"],[0.3333333333333333,\"#9c179e\"],[0.4444444444444444,\"#bd3786\"],[0.5555555555555556,\"#d8576b\"],[0.6666666666666666,\"#ed7953\"],[0.7777777777777778,\"#fb9f3a\"],[0.8888888888888888,\"#fdca26\"],[1.0,\"#f0f921\"]],\"sequentialminus\":[[0.0,\"#0d0887\"],[0.1111111111111111,\"#46039f\"],[0.2222222222222222,\"#7201a8\"],[0.3333333333333333,\"#9c179e\"],[0.4444444444444444,\"#bd3786\"],[0.5555555555555556,\"#d8576b\"],[0.6666666666666666,\"#ed7953\"],[0.7777777777777778,\"#fb9f3a\"],[0.8888888888888888,\"#fdca26\"],[1.0,\"#f0f921\"]]},\"colorway\":[\"#636efa\",\"#EF553B\",\"#00cc96\",\"#ab63fa\",\"#FFA15A\",\"#19d3f3\",\"#FF6692\",\"#B6E880\",\"#FF97FF\",\"#FECB52\"],\"font\":{\"color\":\"#2a3f5f\"},\"geo\":{\"bgcolor\":\"white\",\"lakecolor\":\"white\",\"landcolor\":\"#E5ECF6\",\"showlakes\":true,\"showland\":true,\"subunitcolor\":\"white\"},\"hoverlabel\":{\"align\":\"left\"},\"hovermode\":\"closest\",\"mapbox\":{\"style\":\"light\"},\"paper_bgcolor\":\"white\",\"plot_bgcolor\":\"#E5ECF6\",\"polar\":{\"angularaxis\":{\"gridcolor\":\"white\",\"linecolor\":\"white\",\"ticks\":\"\"},\"bgcolor\":\"#E5ECF6\",\"radialaxis\":{\"gridcolor\":\"white\",\"linecolor\":\"white\",\"ticks\":\"\"}},\"scene\":{\"xaxis\":{\"backgroundcolor\":\"#E5ECF6\",\"gridcolor\":\"white\",\"gridwidth\":2,\"linecolor\":\"white\",\"showbackground\":true,\"ticks\":\"\",\"zerolinecolor\":\"white\"},\"yaxis\":{\"backgroundcolor\":\"#E5ECF6\",\"gridcolor\":\"white\",\"gridwidth\":2,\"linecolor\":\"white\",\"showbackground\":true,\"ticks\":\"\",\"zerolinecolor\":\"white\"},\"zaxis\":{\"backgroundcolor\":\"#E5ECF6\",\"gridcolor\":\"white\",\"gridwidth\":2,\"linecolor\":\"white\",\"showbackground\":true,\"ticks\":\"\",\"zerolinecolor\":\"white\"}},\"shapedefaults\":{\"line\":{\"color\":\"#2a3f5f\"}},\"ternary\":{\"aaxis\":{\"gridcolor\":\"white\",\"linecolor\":\"white\",\"ticks\":\"\"},\"baxis\":{\"gridcolor\":\"white\",\"linecolor\":\"white\",\"ticks\":\"\"},\"bgcolor\":\"#E5ECF6\",\"caxis\":{\"gridcolor\":\"white\",\"linecolor\":\"white\",\"ticks\":\"\"}},\"title\":{\"x\":0.05},\"xaxis\":{\"automargin\":true,\"gridcolor\":\"white\",\"linecolor\":\"white\",\"ticks\":\"\",\"title\":{\"standoff\":15},\"zerolinecolor\":\"white\",\"zerolinewidth\":2},\"yaxis\":{\"automargin\":true,\"gridcolor\":\"white\",\"linecolor\":\"white\",\"ticks\":\"\",\"title\":{\"standoff\":15},\"zerolinecolor\":\"white\",\"zerolinewidth\":2}}},\"annotations\":[{\"font\":{\"color\":\"black\",\"size\":13},\"showarrow\":false,\"text\":\"21.9t\",\"x\":2012,\"xanchor\":\"center\",\"y\":21896335,\"yanchor\":\"bottom\"},{\"font\":{\"color\":\"black\",\"size\":13},\"showarrow\":false,\"text\":\"20.8t\",\"x\":2014,\"xanchor\":\"center\",\"y\":20836408,\"yanchor\":\"bottom\"},{\"font\":{\"color\":\"black\",\"size\":13},\"showarrow\":false,\"text\":\"21.2t\",\"x\":2015,\"xanchor\":\"center\",\"y\":21157827,\"yanchor\":\"bottom\"},{\"font\":{\"color\":\"black\",\"size\":13},\"showarrow\":false,\"text\":\"21.5t\",\"x\":2016,\"xanchor\":\"center\",\"y\":21541841,\"yanchor\":\"bottom\"},{\"font\":{\"color\":\"black\",\"size\":13},\"showarrow\":false,\"text\":\"22.0t\",\"x\":2017,\"xanchor\":\"center\",\"y\":22017864,\"yanchor\":\"bottom\"},{\"font\":{\"color\":\"black\",\"size\":13},\"showarrow\":false,\"text\":\"22.3t\",\"x\":2018,\"xanchor\":\"center\",\"y\":22264824,\"yanchor\":\"bottom\"},{\"font\":{\"color\":\"black\",\"size\":13},\"showarrow\":false,\"text\":\"22.3t\",\"x\":2019,\"xanchor\":\"center\",\"y\":22261690,\"yanchor\":\"bottom\"},{\"font\":{\"color\":\"black\",\"size\":13},\"showarrow\":false,\"text\":\"22.0t\",\"x\":2020,\"xanchor\":\"center\",\"y\":21989316,\"yanchor\":\"bottom\"}],\"barmode\":\"stack\",\"legend\":{\"orientation\":\"h\",\"yanchor\":\"bottom\",\"y\":-0.4,\"xanchor\":\"center\",\"x\":0.5},\"yaxis\":{\"title\":{\"text\":\"Toneladas\"},\"tickformat\":\".0f\",\"ticktext\":[\"5T\",\"10T\",\"15T\",\"20T\"],\"tickvals\":[5000000.0,10000000.0,15000000.0,20000000.0]},\"yaxis2\":{\"tickformat\":\".0f\",\"title\":{\"text\":\"%\"},\"overlaying\":\"y\",\"side\":\"right\",\"range\":[0,100]},\"xaxis\":{\"title\":{\"text\":\"A\\u00f1os\",\"font\":{\"size\":14}},\"showgrid\":false},\"title\":{\"font\":{\"size\":16},\"text\":\"<em><b>Evoluci\\u00f3n Reciclaje Espa\\u00f1a</b></em>\",\"x\":0.5,\"y\":0.88}},                        {\"responsive\": true}                    ).then(function(){\n",
       "                            \n",
       "var gd = document.getElementById('96c5c251-3386-4ca3-9c77-cc007ee7d19e');\n",
       "var x = new MutationObserver(function (mutations, observer) {{\n",
       "        var display = window.getComputedStyle(gd).display;\n",
       "        if (!display || display === 'none') {{\n",
       "            console.log([gd, 'removed!']);\n",
       "            Plotly.purge(gd);\n",
       "            observer.disconnect();\n",
       "        }}\n",
       "}});\n",
       "\n",
       "// Listen for the removal of the full notebook cells\n",
       "var notebookContainer = gd.closest('#notebook-container');\n",
       "if (notebookContainer) {{\n",
       "    x.observe(notebookContainer, {childList: true});\n",
       "}}\n",
       "\n",
       "// Listen for the clearing of the current output cell\n",
       "var outputEl = gd.closest('.output');\n",
       "if (outputEl) {{\n",
       "    x.observe(outputEl, {childList: true});\n",
       "}}\n",
       "\n",
       "                        })                };                });            </script>        </div>"
      ]
     },
     "metadata": {},
     "output_type": "display_data"
    }
   ],
   "source": [
    "# GRÁFICA BARRAS+LINEAL CON LOS DATOS DE ESPAÑA + PREDICCIONES.\n",
    "\n",
    "import plotly.graph_objects as go\n",
    "import pandas as pd\n",
    "\n",
    "# Filtrar los datos para el rango de años 2012-2020\n",
    "esp_filtered = esp[(esp['Año'] >= 2012) & (esp['Año'] <= 2020)]\n",
    "\n",
    "# Crear la figura\n",
    "fig = go.Figure()\n",
    "\n",
    "# Agregar la columna \"Total Recogida Selectiva\" al gráfico\n",
    "fig.add_trace(go.Bar(\n",
    "    x=esp_filtered['Año'],\n",
    "    y=esp_filtered['Total Recogida Selectiva'],\n",
    "    name='Total Recogida Selectiva',\n",
    "    marker_color='lightgreen',\n",
    "    text=[f\"{val/1000000:.1f}t\" for val in esp_filtered['Total Recogida Selectiva']],\n",
    "    textposition='auto'\n",
    "))\n",
    "\n",
    "# Agregar la columna \"Total Resto\" al gráfico\n",
    "fig.add_trace(go.Bar(\n",
    "    x=esp_filtered['Año'],\n",
    "    y=esp_filtered['Total Resto'],\n",
    "    name='Total Resto',\n",
    "    marker_color='tan',\n",
    "    text=[f\"{val/1000000:.1f}t\" for val in esp_filtered['Total Resto']],\n",
    "    textposition='auto'\n",
    "))\n",
    "\n",
    "# Obtener los totales generados\n",
    "total_generado = esp_filtered['Total Generado España']\n",
    "\n",
    "# Configurar las anotaciones\n",
    "annotations = [\n",
    "    go.layout.Annotation(\n",
    "        x=año,\n",
    "        y=total,\n",
    "        text=f\"{total / 1000000:.1f}t\",\n",
    "        showarrow=False,\n",
    "        font=dict(color='black', size=13),\n",
    "        xanchor='center',\n",
    "        yanchor='bottom'\n",
    "    )\n",
    "    for año, total in zip(esp_filtered['Año'], total_generado)\n",
    "]\n",
    "\n",
    "# Agregar las anotaciones al gráfico\n",
    "fig.update_layout(annotations=annotations)\n",
    "\n",
    "# Calcular el porcentaje de Total Resto respecto al Total Generado España\n",
    "porcentaje_resto = esp_filtered['Total Resto'] / esp_filtered['Total Generado España'] * 100\n",
    "\n",
    "# Calcular el porcentaje de Total Selectivo respecto al Total Generado España\n",
    "porcentaje_selectivo = esp_filtered['Total Recogida Selectiva'] / esp_filtered['Total Generado España'] * 100\n",
    "\n",
    "# Agregar la línea de porcentaje de Total Resto con marcadores cuadrados\n",
    "fig.add_trace(go.Scatter(\n",
    "    x=esp_filtered['Año'],\n",
    "    y=porcentaje_resto,\n",
    "    name='% Total Resto',\n",
    "    mode='lines+markers+text',\n",
    "    line=dict(color='rgb(139, 69, 19)', width=3),\n",
    "    marker=dict(symbol='square', size=8, color='rgb(139, 69, 19)'),\n",
    "    text=[f'{y:.2f}%' for y in porcentaje_resto],\n",
    "    textposition='bottom center',\n",
    "    hovertemplate='%{text}',\n",
    "    textfont=dict(color='rgb(139, 69, 19)'),\n",
    "    yaxis='y2'\n",
    "))\n",
    "\n",
    "# Agregar la línea de porcentaje de Total Selectivo con marcadores cuadrados\n",
    "fig.add_trace(go.Scatter(\n",
    "    x=esp_filtered['Año'],\n",
    "    y=porcentaje_selectivo,\n",
    "    name='% Total Selectivo',\n",
    "    mode='lines+markers+text',\n",
    "    line=dict(color='rgb(50, 205, 50)', width=3),\n",
    "    marker=dict(symbol='square', size=8, color='rgb(50, 205, 50)'),\n",
    "    text=[f'{y:.2f}%' for y in porcentaje_selectivo],\n",
    "    textposition='top center',\n",
    "    hovertemplate='%{text}',\n",
    "    textfont=dict(color='green'),\n",
    "    yaxis='y2'\n",
    "))\n",
    "\n",
    "# Configurar la posición de las columnas\n",
    "fig.update_layout(barmode='stack')\n",
    "\n",
    "# Configurar la leyenda abajo de la gráfica, centrada\n",
    "fig.update_layout(\n",
    "    legend=dict(\n",
    "        orientation='h',\n",
    "        yanchor='bottom',\n",
    "        y=-0.40,\n",
    "        xanchor='center',\n",
    "        x=0.5\n",
    "    )\n",
    ")\n",
    "\n",
    "# Configurar el eje Y en porcentaje\n",
    "fig.update_layout(\n",
    "    yaxis=dict(\n",
    "        title='Toneladas',\n",
    "        tickformat='.0f',\n",
    "        ticktext=['5T', '10T', '15T', '20T'],\n",
    "        tickvals=[5e6, 10e6, 15e6, 20e6]\n",
    "    ),\n",
    "    yaxis2=dict(\n",
    "        tickformat='.0f',\n",
    "        title='%',\n",
    "        overlaying='y',\n",
    "        side='right',\n",
    "        range=[0, 100],\n",
    "    ),\n",
    "    xaxis=dict(title='Años', showgrid=False, title_font=dict(size=14)),\n",
    ")\n",
    "\n",
    "\n",
    "\n",
    "# Centrar el título y acercarlo a la gráfica\n",
    "fig.update_layout(title=dict(text=\"<em><b>Evolución Reciclaje España</b></em>\", x=0.5, y=0.88), title_font=dict(size=16))\n",
    "\n",
    "# Mostrar la gráfica\n",
    "fig.show()"
   ]
  },
  {
   "cell_type": "code",
   "execution_count": null,
   "id": "805e32e8-f9a3-4021-81ec-13b3d0f1a603",
   "metadata": {},
   "outputs": [],
   "source": []
  }
 ],
 "metadata": {
  "kernelspec": {
   "display_name": "anaconda-2022.05-py39",
   "language": "python",
   "name": "conda-env-anaconda-2022.05-py39-py"
  },
  "language_info": {
   "codemirror_mode": {
    "name": "ipython",
    "version": 3
   },
   "file_extension": ".py",
   "mimetype": "text/x-python",
   "name": "python",
   "nbconvert_exporter": "python",
   "pygments_lexer": "ipython3",
   "version": "3.9.12"
  }
 },
 "nbformat": 4,
 "nbformat_minor": 5
}
